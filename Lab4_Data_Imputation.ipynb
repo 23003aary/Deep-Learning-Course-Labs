{
  "cells": [
    {
      "cell_type": "markdown",
      "metadata": {
        "id": "OhtOdxzd1ppr"
      },
      "source": [
        "# Lab 4: Data Imputation using an Autoencoder\n",
        "\n",
        "\n",
        "In this lab, you will build and train an autoencoder to impute (or \"fill in\") missing data.\n",
        "\n",
        "We will be using the\n",
        "Adult Data Set provided by the UCI Machine Learning Repository [1], available\n",
        "at https://archive.ics.uci.edu/ml/datasets/adult.\n",
        "The data set contains census record files of adults, including their\n",
        "age, martial status, the type of work they do, and other features.\n",
        "\n",
        "Normally, people use this data set to build a supervised classification\n",
        "model to classify whether a person is a high income earner.\n",
        "We will not use the dataset for this original intended purpose.\n",
        "\n",
        "Instead, we will perform the task of imputing (or \"filling in\") missing values in the dataset. For example,\n",
        "we may be missing one person's martial status, and another person's age, and\n",
        "a third person's level of education. Our model will predict the missing features\n",
        "based on the information that we do have about each person.\n",
        "\n",
        "We will use a variation of a denoising autoencoder to solve this data imputation\n",
        "problem. Our autoencoder will be trained using inputs that have one categorical feature artificially\n",
        "removed, and the goal of the autoencoder is to correctly reconstruct all features,\n",
        "including the one removed from the input.\n",
        "\n",
        "In the process, you are expected to learn to:\n",
        "\n",
        "1. Clean and process continuous and categorical data for machine learning.\n",
        "2. Implement an autoencoder that takes continuous and categorical (one-hot) inputs.\n",
        "3. Tune the hyperparameters of an autoencoder.\n",
        "4. Use baseline models to help interpret model performance.\n",
        "\n",
        "[1] Dua, D. and Karra Taniskidou, E. (2017). UCI Machine Learning Repository [http://archive.ics.uci.edu/ml]. Irvine, CA: University of California, School of Information and Computer Science.\n",
        "\n",
        "\n",
        "### What to submit\n",
        "\n",
        "Submit a PDF file containing all your code, outputs, and write-up. You can produce a PDF of your Google Colab file by going to File > Print and then save as PDF. The Colab instructions have more information.\n",
        "\n",
        "Do not submit any other files produced by your code.\n",
        "\n",
        "Include a link to your colab file in your submission.\n"
      ]
    },
    {
      "cell_type": "markdown",
      "metadata": {
        "id": "zbnrp2ig1pps"
      },
      "source": [
        "## Colab Link\n",
        "\n",
        "Include a link to your Colab file here. If you would like the TA to look at your\n",
        "Colab file in case your solutions are cut off, **please make sure that your Colab\n",
        "file is publicly accessible at the time of submission**.\n",
        "\n",
        "Colab Link:https://colab.research.google.com/drive/1WYmsNwmSoJpUQJuAiqUkBWd9vP7O7hiX?usp=sharing"
      ]
    },
    {
      "cell_type": "code",
      "execution_count": null,
      "metadata": {
        "collapsed": true,
        "id": "z3p8N43E1ppt"
      },
      "outputs": [],
      "source": [
        "import csv\n",
        "import numpy as np\n",
        "import random\n",
        "import torch\n",
        "import torch.utils.data\n",
        "import matplotlib.pyplot as plt\n"
      ]
    },
    {
      "cell_type": "markdown",
      "metadata": {
        "id": "8ROwtHcz1ppx"
      },
      "source": [
        "## Part 0\n",
        "\n",
        "We will be using a package called `pandas` for this assignment.\n",
        "\n",
        "If you are using Colab, `pandas` should already be available.\n",
        "If you are using your own computer,\n",
        "installation instructions for `pandas` are available here:\n",
        "https://pandas.pydata.org/pandas-docs/stable/install.html"
      ]
    },
    {
      "cell_type": "code",
      "execution_count": null,
      "metadata": {
        "collapsed": true,
        "id": "IXQ7BP151ppz"
      },
      "outputs": [],
      "source": [
        "import pandas as pd"
      ]
    },
    {
      "cell_type": "markdown",
      "metadata": {
        "id": "hqXihb4Q1pp2"
      },
      "source": [
        "# Part 1. Data Cleaning [15 pt]\n",
        "\n",
        "The adult.data file is available at `https://archive.ics.uci.edu/ml/machine-learning-databases/adult/adult.data`\n",
        "\n",
        "The function `pd.read_csv` loads the adult.data file into a pandas dataframe.\n",
        "You can read about the pandas documentation for `pd.read_csv` at\n",
        "https://pandas.pydata.org/pandas-docs/stable/reference/api/pandas.read_csv.html"
      ]
    },
    {
      "cell_type": "code",
      "execution_count": null,
      "metadata": {
        "colab": {
          "base_uri": "https://localhost:8080/"
        },
        "collapsed": true,
        "id": "EOMItFKn1pp3",
        "outputId": "ca1a2ed1-883b-4f92-ba76-668108342505"
      },
      "outputs": [
        {
          "name": "stderr",
          "output_type": "stream",
          "text": [
            "<ipython-input-3-037957db2593>:3: ParserWarning: Length of header or names does not match length of data. This leads to a loss of data with index_col=False.\n",
            "  df = pd.read_csv(\n"
          ]
        }
      ],
      "source": [
        "header = ['age', 'work', 'fnlwgt', 'edu', 'yredu', 'marriage', 'occupation',\n",
        " 'relationship', 'race', 'sex', 'capgain', 'caploss', 'workhr', 'country']\n",
        "df = pd.read_csv(\n",
        "    \"https://archive.ics.uci.edu/ml/machine-learning-databases/adult/adult.data\",\n",
        "    names=header,\n",
        "    index_col=False)"
      ]
    },
    {
      "cell_type": "code",
      "execution_count": null,
      "metadata": {
        "colab": {
          "base_uri": "https://localhost:8080/"
        },
        "id": "62Ot405q1pp5",
        "outputId": "67cdb1f2-c5d3-49c4-c4a2-acecda3c32a0",
        "scrolled": true
      },
      "outputs": [
        {
          "data": {
            "text/plain": [
              "(32561, 14)"
            ]
          },
          "execution_count": 5,
          "metadata": {},
          "output_type": "execute_result"
        }
      ],
      "source": [
        "df.shape # there are 32561 rows (records) in the data frame, and 14 columns (features)"
      ]
    },
    {
      "cell_type": "markdown",
      "metadata": {
        "id": "Tr7YG-QY1pp8"
      },
      "source": [
        "### Part (a) Continuous Features [3 pt]\n",
        "\n",
        "For each of the columns `[\"age\", \"yredu\", \"capgain\", \"caploss\", \"workhr\"]`, report the minimum, maximum, and average value across the dataset.\n",
        "\n",
        "Then, normalize each of the features `[\"age\", \"yredu\", \"capgain\", \"caploss\", \"workhr\"]`\n",
        "so that their values are always between 0 and 1.\n",
        "Make sure that you are actually modifying the dataframe `df`.\n",
        "\n",
        "Like numpy arrays and torch tensors,\n",
        "pandas data frames can be sliced. For example, we can\n",
        "display the first 3 rows of the data frame (3 records) below."
      ]
    },
    {
      "cell_type": "code",
      "execution_count": null,
      "metadata": {
        "colab": {
          "base_uri": "https://localhost:8080/",
          "height": 143
        },
        "id": "9evSLsSa1pp9",
        "outputId": "1803927a-39b8-45e3-be5b-7a3b846138e2"
      },
      "outputs": [
        {
          "data": {
            "text/html": [
              "\n",
              "  <div id=\"df-ed855820-9fb2-4076-976f-8ff66493f667\">\n",
              "    <div class=\"colab-df-container\">\n",
              "      <div>\n",
              "<style scoped>\n",
              "    .dataframe tbody tr th:only-of-type {\n",
              "        vertical-align: middle;\n",
              "    }\n",
              "\n",
              "    .dataframe tbody tr th {\n",
              "        vertical-align: top;\n",
              "    }\n",
              "\n",
              "    .dataframe thead th {\n",
              "        text-align: right;\n",
              "    }\n",
              "</style>\n",
              "<table border=\"1\" class=\"dataframe\">\n",
              "  <thead>\n",
              "    <tr style=\"text-align: right;\">\n",
              "      <th></th>\n",
              "      <th>age</th>\n",
              "      <th>work</th>\n",
              "      <th>fnlwgt</th>\n",
              "      <th>edu</th>\n",
              "      <th>yredu</th>\n",
              "      <th>marriage</th>\n",
              "      <th>occupation</th>\n",
              "      <th>relationship</th>\n",
              "      <th>race</th>\n",
              "      <th>sex</th>\n",
              "      <th>capgain</th>\n",
              "      <th>caploss</th>\n",
              "      <th>workhr</th>\n",
              "      <th>country</th>\n",
              "    </tr>\n",
              "  </thead>\n",
              "  <tbody>\n",
              "    <tr>\n",
              "      <th>0</th>\n",
              "      <td>39</td>\n",
              "      <td>State-gov</td>\n",
              "      <td>77516</td>\n",
              "      <td>Bachelors</td>\n",
              "      <td>13</td>\n",
              "      <td>Never-married</td>\n",
              "      <td>Adm-clerical</td>\n",
              "      <td>Not-in-family</td>\n",
              "      <td>White</td>\n",
              "      <td>Male</td>\n",
              "      <td>2174</td>\n",
              "      <td>0</td>\n",
              "      <td>40</td>\n",
              "      <td>United-States</td>\n",
              "    </tr>\n",
              "    <tr>\n",
              "      <th>1</th>\n",
              "      <td>50</td>\n",
              "      <td>Self-emp-not-inc</td>\n",
              "      <td>83311</td>\n",
              "      <td>Bachelors</td>\n",
              "      <td>13</td>\n",
              "      <td>Married-civ-spouse</td>\n",
              "      <td>Exec-managerial</td>\n",
              "      <td>Husband</td>\n",
              "      <td>White</td>\n",
              "      <td>Male</td>\n",
              "      <td>0</td>\n",
              "      <td>0</td>\n",
              "      <td>13</td>\n",
              "      <td>United-States</td>\n",
              "    </tr>\n",
              "    <tr>\n",
              "      <th>2</th>\n",
              "      <td>38</td>\n",
              "      <td>Private</td>\n",
              "      <td>215646</td>\n",
              "      <td>HS-grad</td>\n",
              "      <td>9</td>\n",
              "      <td>Divorced</td>\n",
              "      <td>Handlers-cleaners</td>\n",
              "      <td>Not-in-family</td>\n",
              "      <td>White</td>\n",
              "      <td>Male</td>\n",
              "      <td>0</td>\n",
              "      <td>0</td>\n",
              "      <td>40</td>\n",
              "      <td>United-States</td>\n",
              "    </tr>\n",
              "  </tbody>\n",
              "</table>\n",
              "</div>\n",
              "      <button class=\"colab-df-convert\" onclick=\"convertToInteractive('df-ed855820-9fb2-4076-976f-8ff66493f667')\"\n",
              "              title=\"Convert this dataframe to an interactive table.\"\n",
              "              style=\"display:none;\">\n",
              "        \n",
              "  <svg xmlns=\"http://www.w3.org/2000/svg\" height=\"24px\"viewBox=\"0 0 24 24\"\n",
              "       width=\"24px\">\n",
              "    <path d=\"M0 0h24v24H0V0z\" fill=\"none\"/>\n",
              "    <path d=\"M18.56 5.44l.94 2.06.94-2.06 2.06-.94-2.06-.94-.94-2.06-.94 2.06-2.06.94zm-11 1L8.5 8.5l.94-2.06 2.06-.94-2.06-.94L8.5 2.5l-.94 2.06-2.06.94zm10 10l.94 2.06.94-2.06 2.06-.94-2.06-.94-.94-2.06-.94 2.06-2.06.94z\"/><path d=\"M17.41 7.96l-1.37-1.37c-.4-.4-.92-.59-1.43-.59-.52 0-1.04.2-1.43.59L10.3 9.45l-7.72 7.72c-.78.78-.78 2.05 0 2.83L4 21.41c.39.39.9.59 1.41.59.51 0 1.02-.2 1.41-.59l7.78-7.78 2.81-2.81c.8-.78.8-2.07 0-2.86zM5.41 20L4 18.59l7.72-7.72 1.47 1.35L5.41 20z\"/>\n",
              "  </svg>\n",
              "      </button>\n",
              "      \n",
              "  <style>\n",
              "    .colab-df-container {\n",
              "      display:flex;\n",
              "      flex-wrap:wrap;\n",
              "      gap: 12px;\n",
              "    }\n",
              "\n",
              "    .colab-df-convert {\n",
              "      background-color: #E8F0FE;\n",
              "      border: none;\n",
              "      border-radius: 50%;\n",
              "      cursor: pointer;\n",
              "      display: none;\n",
              "      fill: #1967D2;\n",
              "      height: 32px;\n",
              "      padding: 0 0 0 0;\n",
              "      width: 32px;\n",
              "    }\n",
              "\n",
              "    .colab-df-convert:hover {\n",
              "      background-color: #E2EBFA;\n",
              "      box-shadow: 0px 1px 2px rgba(60, 64, 67, 0.3), 0px 1px 3px 1px rgba(60, 64, 67, 0.15);\n",
              "      fill: #174EA6;\n",
              "    }\n",
              "\n",
              "    [theme=dark] .colab-df-convert {\n",
              "      background-color: #3B4455;\n",
              "      fill: #D2E3FC;\n",
              "    }\n",
              "\n",
              "    [theme=dark] .colab-df-convert:hover {\n",
              "      background-color: #434B5C;\n",
              "      box-shadow: 0px 1px 3px 1px rgba(0, 0, 0, 0.15);\n",
              "      filter: drop-shadow(0px 1px 2px rgba(0, 0, 0, 0.3));\n",
              "      fill: #FFFFFF;\n",
              "    }\n",
              "  </style>\n",
              "\n",
              "      <script>\n",
              "        const buttonEl =\n",
              "          document.querySelector('#df-ed855820-9fb2-4076-976f-8ff66493f667 button.colab-df-convert');\n",
              "        buttonEl.style.display =\n",
              "          google.colab.kernel.accessAllowed ? 'block' : 'none';\n",
              "\n",
              "        async function convertToInteractive(key) {\n",
              "          const element = document.querySelector('#df-ed855820-9fb2-4076-976f-8ff66493f667');\n",
              "          const dataTable =\n",
              "            await google.colab.kernel.invokeFunction('convertToInteractive',\n",
              "                                                     [key], {});\n",
              "          if (!dataTable) return;\n",
              "\n",
              "          const docLinkHtml = 'Like what you see? Visit the ' +\n",
              "            '<a target=\"_blank\" href=https://colab.research.google.com/notebooks/data_table.ipynb>data table notebook</a>'\n",
              "            + ' to learn more about interactive tables.';\n",
              "          element.innerHTML = '';\n",
              "          dataTable['output_type'] = 'display_data';\n",
              "          await google.colab.output.renderOutput(dataTable, element);\n",
              "          const docLink = document.createElement('div');\n",
              "          docLink.innerHTML = docLinkHtml;\n",
              "          element.appendChild(docLink);\n",
              "        }\n",
              "      </script>\n",
              "    </div>\n",
              "  </div>\n",
              "  "
            ],
            "text/plain": [
              "   age               work  fnlwgt         edu  yredu             marriage  \\\n",
              "0   39          State-gov   77516   Bachelors     13        Never-married   \n",
              "1   50   Self-emp-not-inc   83311   Bachelors     13   Married-civ-spouse   \n",
              "2   38            Private  215646     HS-grad      9             Divorced   \n",
              "\n",
              "           occupation    relationship    race    sex  capgain  caploss  \\\n",
              "0        Adm-clerical   Not-in-family   White   Male     2174        0   \n",
              "1     Exec-managerial         Husband   White   Male        0        0   \n",
              "2   Handlers-cleaners   Not-in-family   White   Male        0        0   \n",
              "\n",
              "   workhr         country  \n",
              "0      40   United-States  \n",
              "1      13   United-States  \n",
              "2      40   United-States  "
            ]
          },
          "execution_count": 4,
          "metadata": {},
          "output_type": "execute_result"
        }
      ],
      "source": [
        "df[:3] # show the first 3 records"
      ]
    },
    {
      "cell_type": "markdown",
      "metadata": {
        "id": "gBOojI6W1pqA"
      },
      "source": [
        "Alternatively, we can slice based on column names,\n",
        "for example `df[\"race\"]`, `df[\"hr\"]`, or even index multiple columns\n",
        "like below."
      ]
    },
    {
      "cell_type": "code",
      "execution_count": null,
      "metadata": {
        "colab": {
          "base_uri": "https://localhost:8080/",
          "height": 143
        },
        "id": "4v6pp73A1pqB",
        "outputId": "01ffb360-2749-41c2-f19e-da39aa48a47e"
      },
      "outputs": [
        {
          "data": {
            "text/html": [
              "\n",
              "  <div id=\"df-48794539-0655-4ba4-8d34-37f8b6b4fc16\">\n",
              "    <div class=\"colab-df-container\">\n",
              "      <div>\n",
              "<style scoped>\n",
              "    .dataframe tbody tr th:only-of-type {\n",
              "        vertical-align: middle;\n",
              "    }\n",
              "\n",
              "    .dataframe tbody tr th {\n",
              "        vertical-align: top;\n",
              "    }\n",
              "\n",
              "    .dataframe thead th {\n",
              "        text-align: right;\n",
              "    }\n",
              "</style>\n",
              "<table border=\"1\" class=\"dataframe\">\n",
              "  <thead>\n",
              "    <tr style=\"text-align: right;\">\n",
              "      <th></th>\n",
              "      <th>age</th>\n",
              "      <th>yredu</th>\n",
              "      <th>capgain</th>\n",
              "      <th>caploss</th>\n",
              "      <th>workhr</th>\n",
              "    </tr>\n",
              "  </thead>\n",
              "  <tbody>\n",
              "    <tr>\n",
              "      <th>0</th>\n",
              "      <td>39</td>\n",
              "      <td>13</td>\n",
              "      <td>2174</td>\n",
              "      <td>0</td>\n",
              "      <td>40</td>\n",
              "    </tr>\n",
              "    <tr>\n",
              "      <th>1</th>\n",
              "      <td>50</td>\n",
              "      <td>13</td>\n",
              "      <td>0</td>\n",
              "      <td>0</td>\n",
              "      <td>13</td>\n",
              "    </tr>\n",
              "    <tr>\n",
              "      <th>2</th>\n",
              "      <td>38</td>\n",
              "      <td>9</td>\n",
              "      <td>0</td>\n",
              "      <td>0</td>\n",
              "      <td>40</td>\n",
              "    </tr>\n",
              "  </tbody>\n",
              "</table>\n",
              "</div>\n",
              "      <button class=\"colab-df-convert\" onclick=\"convertToInteractive('df-48794539-0655-4ba4-8d34-37f8b6b4fc16')\"\n",
              "              title=\"Convert this dataframe to an interactive table.\"\n",
              "              style=\"display:none;\">\n",
              "        \n",
              "  <svg xmlns=\"http://www.w3.org/2000/svg\" height=\"24px\"viewBox=\"0 0 24 24\"\n",
              "       width=\"24px\">\n",
              "    <path d=\"M0 0h24v24H0V0z\" fill=\"none\"/>\n",
              "    <path d=\"M18.56 5.44l.94 2.06.94-2.06 2.06-.94-2.06-.94-.94-2.06-.94 2.06-2.06.94zm-11 1L8.5 8.5l.94-2.06 2.06-.94-2.06-.94L8.5 2.5l-.94 2.06-2.06.94zm10 10l.94 2.06.94-2.06 2.06-.94-2.06-.94-.94-2.06-.94 2.06-2.06.94z\"/><path d=\"M17.41 7.96l-1.37-1.37c-.4-.4-.92-.59-1.43-.59-.52 0-1.04.2-1.43.59L10.3 9.45l-7.72 7.72c-.78.78-.78 2.05 0 2.83L4 21.41c.39.39.9.59 1.41.59.51 0 1.02-.2 1.41-.59l7.78-7.78 2.81-2.81c.8-.78.8-2.07 0-2.86zM5.41 20L4 18.59l7.72-7.72 1.47 1.35L5.41 20z\"/>\n",
              "  </svg>\n",
              "      </button>\n",
              "      \n",
              "  <style>\n",
              "    .colab-df-container {\n",
              "      display:flex;\n",
              "      flex-wrap:wrap;\n",
              "      gap: 12px;\n",
              "    }\n",
              "\n",
              "    .colab-df-convert {\n",
              "      background-color: #E8F0FE;\n",
              "      border: none;\n",
              "      border-radius: 50%;\n",
              "      cursor: pointer;\n",
              "      display: none;\n",
              "      fill: #1967D2;\n",
              "      height: 32px;\n",
              "      padding: 0 0 0 0;\n",
              "      width: 32px;\n",
              "    }\n",
              "\n",
              "    .colab-df-convert:hover {\n",
              "      background-color: #E2EBFA;\n",
              "      box-shadow: 0px 1px 2px rgba(60, 64, 67, 0.3), 0px 1px 3px 1px rgba(60, 64, 67, 0.15);\n",
              "      fill: #174EA6;\n",
              "    }\n",
              "\n",
              "    [theme=dark] .colab-df-convert {\n",
              "      background-color: #3B4455;\n",
              "      fill: #D2E3FC;\n",
              "    }\n",
              "\n",
              "    [theme=dark] .colab-df-convert:hover {\n",
              "      background-color: #434B5C;\n",
              "      box-shadow: 0px 1px 3px 1px rgba(0, 0, 0, 0.15);\n",
              "      filter: drop-shadow(0px 1px 2px rgba(0, 0, 0, 0.3));\n",
              "      fill: #FFFFFF;\n",
              "    }\n",
              "  </style>\n",
              "\n",
              "      <script>\n",
              "        const buttonEl =\n",
              "          document.querySelector('#df-48794539-0655-4ba4-8d34-37f8b6b4fc16 button.colab-df-convert');\n",
              "        buttonEl.style.display =\n",
              "          google.colab.kernel.accessAllowed ? 'block' : 'none';\n",
              "\n",
              "        async function convertToInteractive(key) {\n",
              "          const element = document.querySelector('#df-48794539-0655-4ba4-8d34-37f8b6b4fc16');\n",
              "          const dataTable =\n",
              "            await google.colab.kernel.invokeFunction('convertToInteractive',\n",
              "                                                     [key], {});\n",
              "          if (!dataTable) return;\n",
              "\n",
              "          const docLinkHtml = 'Like what you see? Visit the ' +\n",
              "            '<a target=\"_blank\" href=https://colab.research.google.com/notebooks/data_table.ipynb>data table notebook</a>'\n",
              "            + ' to learn more about interactive tables.';\n",
              "          element.innerHTML = '';\n",
              "          dataTable['output_type'] = 'display_data';\n",
              "          await google.colab.output.renderOutput(dataTable, element);\n",
              "          const docLink = document.createElement('div');\n",
              "          docLink.innerHTML = docLinkHtml;\n",
              "          element.appendChild(docLink);\n",
              "        }\n",
              "      </script>\n",
              "    </div>\n",
              "  </div>\n",
              "  "
            ],
            "text/plain": [
              "   age  yredu  capgain  caploss  workhr\n",
              "0   39     13     2174        0      40\n",
              "1   50     13        0        0      13\n",
              "2   38      9        0        0      40"
            ]
          },
          "execution_count": 5,
          "metadata": {},
          "output_type": "execute_result"
        }
      ],
      "source": [
        "subdf = df[[\"age\", \"yredu\", \"capgain\", \"caploss\", \"workhr\"]]\n",
        "subdf[:3] # show the first 3 records"
      ]
    },
    {
      "cell_type": "markdown",
      "metadata": {
        "id": "2Nru2P0E1pqD"
      },
      "source": [
        "Numpy works nicely with pandas, like below:"
      ]
    },
    {
      "cell_type": "code",
      "execution_count": null,
      "metadata": {
        "colab": {
          "base_uri": "https://localhost:8080/"
        },
        "id": "JXrS6tjp1pqE",
        "outputId": "48c161ea-6104-49e8-cda6-b6ecd8127fe2"
      },
      "outputs": [
        {
          "data": {
            "text/plain": [
              "2842700"
            ]
          },
          "execution_count": 6,
          "metadata": {},
          "output_type": "execute_result"
        }
      ],
      "source": [
        "np.sum(subdf[\"caploss\"])"
      ]
    },
    {
      "cell_type": "markdown",
      "metadata": {
        "id": "Mv5mbxDM1pqH"
      },
      "source": [
        "Just like numpy arrays, you can modify\n",
        "entire columns of data rather than one scalar element at a time.\n",
        "For example, the code  \n",
        "\n",
        "`df[\"age\"] = df[\"age\"] + 1`\n",
        "\n",
        "would increment everyone's age by 1."
      ]
    },
    {
      "cell_type": "code",
      "execution_count": null,
      "metadata": {
        "colab": {
          "base_uri": "https://localhost:8080/"
        },
        "collapsed": true,
        "id": "k5rlWD7-1pqH",
        "outputId": "631d5ac1-d3de-4841-9499-40246a4201db"
      },
      "outputs": [
        {
          "name": "stdout",
          "output_type": "stream",
          "text": [
            "AGE MAX: 90 AGE MIN: 17 AGE AVE: 38.58164675532078\n",
            "YEAR EDU MAX: 16 YEAR EDU MIN: 1 YEAR EDU AVE: 10.0806793403151\n",
            "CAPGAIN MAX: 99999 CAPGAIN MIN: 0 CAPGAIN AVE: 1077.6488437087312\n",
            "CAPLOSS MAX: 4356 CAPLOSS MIN: 0 CAPLOSS AVE: 87.303829734959\n",
            "WORK HOUR MAX: 99 WORK HOUR MIN: 1 WORK HOUR AVE: 40.437455852092995\n"
          ]
        }
      ],
      "source": [
        "#Max value of each coloumn\n",
        "\n",
        "# \"age\", \"yredu\", \"capgain\", \"caploss\", \"workhr\"\n",
        "#Max/Min/Ave Age\n",
        "print(\"AGE MAX:\", np.max(df[\"age\"]), \"AGE MIN:\", np.min(df[\"age\"]), \"AGE AVE:\", np.average(df[\"age\"]))\n",
        "\n",
        "#Max/Min/Ave Year Education\n",
        "print(\"YEAR EDU MAX:\", np.max(df[\"yredu\"]), \"YEAR EDU MIN:\", np.min(df[\"yredu\"]), \"YEAR EDU AVE:\", np.average(df[\"yredu\"]))\n",
        "\n",
        "#Max/Min/Ave CapGain\n",
        "print(\"CAPGAIN MAX:\", np.max(df[\"capgain\"]), \"CAPGAIN MIN:\", np.min(df[\"capgain\"]), \"CAPGAIN AVE:\", np.average(df[\"capgain\"]))\n",
        "\n",
        "#Max/Min/Ave CapLoss\n",
        "print(\"CAPLOSS MAX:\", np.max(df[\"caploss\"]), \"CAPLOSS MIN:\", np.min(df[\"caploss\"]), \"CAPLOSS AVE:\", np.average(df[\"caploss\"]))\n",
        "\n",
        "#Max/Min/Ave Work Hours\n",
        "print(\"WORK HOUR MAX:\", np.max(df[\"workhr\"]), \"WORK HOUR MIN:\", np.min(df[\"workhr\"]), \"WORK HOUR AVE:\", np.average(df[\"workhr\"]))"
      ]
    },
    {
      "cell_type": "code",
      "execution_count": null,
      "metadata": {
        "colab": {
          "base_uri": "https://localhost:8080/"
        },
        "id": "qcKIZBblGN6T",
        "outputId": "f4c2a46c-6763-4163-a9f0-d17dadc5cd26"
      },
      "outputs": [
        {
          "name": "stdout",
          "output_type": "stream",
          "text": [
            "0        0.301370\n",
            "1        0.452055\n",
            "2        0.287671\n",
            "3        0.493151\n",
            "4        0.150685\n",
            "           ...   \n",
            "32556    0.136986\n",
            "32557    0.315068\n",
            "32558    0.561644\n",
            "32559    0.068493\n",
            "32560    0.479452\n",
            "Name: age, Length: 32561, dtype: float64\n",
            "0        0.800000\n",
            "1        0.800000\n",
            "2        0.533333\n",
            "3        0.400000\n",
            "4        0.800000\n",
            "           ...   \n",
            "32556    0.733333\n",
            "32557    0.533333\n",
            "32558    0.533333\n",
            "32559    0.533333\n",
            "32560    0.533333\n",
            "Name: yredu, Length: 32561, dtype: float64\n",
            "0        0.021740\n",
            "1        0.000000\n",
            "2        0.000000\n",
            "3        0.000000\n",
            "4        0.000000\n",
            "           ...   \n",
            "32556    0.000000\n",
            "32557    0.000000\n",
            "32558    0.000000\n",
            "32559    0.000000\n",
            "32560    0.150242\n",
            "Name: capgain, Length: 32561, dtype: float64\n",
            "0        0.0\n",
            "1        0.0\n",
            "2        0.0\n",
            "3        0.0\n",
            "4        0.0\n",
            "        ... \n",
            "32556    0.0\n",
            "32557    0.0\n",
            "32558    0.0\n",
            "32559    0.0\n",
            "32560    0.0\n",
            "Name: caploss, Length: 32561, dtype: float64\n",
            "0        0.397959\n",
            "1        0.122449\n",
            "2        0.397959\n",
            "3        0.397959\n",
            "4        0.397959\n",
            "           ...   \n",
            "32556    0.377551\n",
            "32557    0.397959\n",
            "32558    0.397959\n",
            "32559    0.193878\n",
            "32560    0.397959\n",
            "Name: workhr, Length: 32561, dtype: float64\n"
          ]
        }
      ],
      "source": [
        "#Modification Normalization\n",
        "\n",
        "#Age\n",
        "df[\"age\"] = (df[\"age\"] - df[\"age\"].min())/(df[\"age\"].max() - df[\"age\"].min())\n",
        "print(df[\"age\"])\n",
        "\n",
        "#Year Education\n",
        "df[\"yredu\"] = (df[\"yredu\"] - df[\"yredu\"].min())/(df[\"yredu\"].max() - df[\"yredu\"].min())\n",
        "print(df[\"yredu\"])\n",
        "\n",
        "#CapGain\n",
        "df[\"capgain\"] = (df[\"capgain\"] - df[\"capgain\"].min())/(df[\"capgain\"].max() - df[\"capgain\"].min())\n",
        "print(df[\"capgain\"])\n",
        "\n",
        "#CapLoss\n",
        "df[\"caploss\"] = (df[\"caploss\"] - df[\"caploss\"].min())/(df[\"caploss\"].max() - df[\"caploss\"].min())\n",
        "print(df[\"caploss\"])\n",
        "\n",
        "#Work Hours\n",
        "df[\"workhr\"] = (df[\"workhr\"] - df[\"workhr\"].min())/(df[\"workhr\"].max() - df[\"workhr\"].min())\n",
        "print(df[\"workhr\"])"
      ]
    },
    {
      "cell_type": "markdown",
      "metadata": {
        "id": "qbfMly4R1pqK"
      },
      "source": [
        "### Part (b) Categorical Features [1 pt]\n",
        "\n",
        "What percentage of people in our data set are male? Note that the data labels all have an unfortunate space in the beginning, e.g. \" Male\" instead of \"Male\".\n",
        "\n",
        "What percentage of people in our data set are female?"
      ]
    },
    {
      "cell_type": "code",
      "execution_count": null,
      "metadata": {
        "colab": {
          "base_uri": "https://localhost:8080/"
        },
        "id": "DjAjcsB_1pqK",
        "outputId": "3bb2b770-8b0a-4975-862e-ceed92b74570"
      },
      "outputs": [
        {
          "data": {
            "text/plain": [
              "21790"
            ]
          },
          "execution_count": 9,
          "metadata": {},
          "output_type": "execute_result"
        }
      ],
      "source": [
        "# hint: you can do something like this in pandas\n",
        "sum(df[\"sex\"] == \" Male\")"
      ]
    },
    {
      "cell_type": "code",
      "execution_count": null,
      "metadata": {
        "colab": {
          "base_uri": "https://localhost:8080/"
        },
        "id": "zSk56SfKgbag",
        "outputId": "75cdf001-42c1-4985-aac3-a6dcb9b3c930"
      },
      "outputs": [
        {
          "name": "stdout",
          "output_type": "stream",
          "text": [
            "Percentage Male: 66.92054912318417 and Percentage Female: 33.07945087681582\n"
          ]
        }
      ],
      "source": [
        "#Gender Percentage\n",
        "\n",
        "count_male = sum(df[\"sex\"] == \" Male\")\n",
        "\n",
        "count_female = sum(df[\"sex\"] == \" Female\")\n",
        "\n",
        "count_total = df[\"sex\"].count()\n",
        "\n",
        "percent_male = (100*(count_male)/(count_total))\n",
        "percent_female = (100*(count_female)/(count_total))\n",
        "\n",
        "print(\"Percentage Male:\", percent_male, \"and Percentage Female:\", percent_female )"
      ]
    },
    {
      "cell_type": "markdown",
      "metadata": {
        "id": "eGVw7pqL1pqN"
      },
      "source": [
        "### Part (c) [2 pt]\n",
        "\n",
        "Before proceeding, we will modify our data frame in a couple more ways:\n",
        "\n",
        "1. We will restrict ourselves to using a subset of the features (to simplify our autoencoder)\n",
        "2. We will remove any records (rows) already containing missing values, and store them in a second dataframe. We will only use records without missing values to train our autoencoder.\n",
        "\n",
        "Both of these steps are done for you, below.\n",
        "\n",
        "How many records contained missing features? What percentage of records were removed?"
      ]
    },
    {
      "cell_type": "code",
      "execution_count": null,
      "metadata": {
        "collapsed": true,
        "id": "z6ewPUdv1pqO"
      },
      "outputs": [],
      "source": [
        "contcols = [\"age\", \"yredu\", \"capgain\", \"caploss\", \"workhr\"]\n",
        "catcols = [\"work\", \"marriage\", \"occupation\", \"edu\", \"relationship\", \"sex\"]\n",
        "features = contcols + catcols\n",
        "df = df[features]"
      ]
    },
    {
      "cell_type": "code",
      "execution_count": null,
      "metadata": {
        "collapsed": true,
        "id": "fjdVll5a1pqQ"
      },
      "outputs": [],
      "source": [
        "missing = pd.concat([df[c] == \" ?\" for c in catcols], axis=1).any(axis=1)\n",
        "df_with_missing = df[missing]\n",
        "df_not_missing = df[~missing]"
      ]
    },
    {
      "cell_type": "code",
      "execution_count": null,
      "metadata": {
        "colab": {
          "base_uri": "https://localhost:8080/"
        },
        "id": "aHTbuOQwhvyH",
        "outputId": "9643cee0-e961-43aa-d983-5a18b39020e3"
      },
      "outputs": [
        {
          "name": "stdout",
          "output_type": "stream",
          "text": [
            "The amount of records containing missing feautres 30718\n",
            "Percent removed: 5.660145572924664\n"
          ]
        }
      ],
      "source": [
        "#Finding Percent Removed\n",
        "total_before = len(df)\n",
        "\n",
        "total_after = len(df_with_missing)\n",
        "\n",
        "print(\"The amount of records containing missing feautres\", (total_before - total_after))\n",
        "\n",
        "print(\"Percent removed:\", (100*(total_after/total_before)))"
      ]
    },
    {
      "cell_type": "markdown",
      "metadata": {
        "id": "XuEpndTQ1pqU"
      },
      "source": [
        "### Part (d) One-Hot Encoding [1 pt]\n",
        "\n",
        "What are all the possible values of the feature \"work\" in `df_not_missing`? You may find the Python function `set` useful."
      ]
    },
    {
      "cell_type": "code",
      "execution_count": null,
      "metadata": {
        "colab": {
          "base_uri": "https://localhost:8080/"
        },
        "id": "iKFh4owE1pqV",
        "outputId": "d8176a2b-9151-4b59-e40a-5493237975ec"
      },
      "outputs": [
        {
          "data": {
            "text/plain": [
              "{' Federal-gov',\n",
              " ' Local-gov',\n",
              " ' Private',\n",
              " ' Self-emp-inc',\n",
              " ' Self-emp-not-inc',\n",
              " ' State-gov',\n",
              " ' Without-pay'}"
            ]
          },
          "execution_count": 14,
          "metadata": {},
          "output_type": "execute_result"
        }
      ],
      "source": [
        "#Using Set\n",
        "set(df_not_missing[\"work\"])"
      ]
    },
    {
      "cell_type": "markdown",
      "metadata": {
        "id": "COv3HaKr1pqY"
      },
      "source": [
        "We will be using a one-hot encoding to represent each of the categorical variables.\n",
        "Our autoencoder will be trained using these one-hot encodings.\n",
        "\n",
        "We will use the pandas function `get_dummies` to produce one-hot encodings\n",
        "for all of the categorical variables in `df_not_missing`."
      ]
    },
    {
      "cell_type": "code",
      "execution_count": null,
      "metadata": {
        "collapsed": true,
        "id": "eKlSYmJg1pqZ"
      },
      "outputs": [],
      "source": [
        "data = pd.get_dummies(df_not_missing)"
      ]
    },
    {
      "cell_type": "code",
      "execution_count": null,
      "metadata": {
        "colab": {
          "base_uri": "https://localhost:8080/",
          "height": 306
        },
        "id": "3y7nTZ7H1pqb",
        "outputId": "cc947a74-9850-43e3-ebee-1595adbd5fff",
        "scrolled": true
      },
      "outputs": [
        {
          "data": {
            "text/html": [
              "\n",
              "  <div id=\"df-f8bfd0ed-99d7-4670-b95f-5730c7087502\">\n",
              "    <div class=\"colab-df-container\">\n",
              "      <div>\n",
              "<style scoped>\n",
              "    .dataframe tbody tr th:only-of-type {\n",
              "        vertical-align: middle;\n",
              "    }\n",
              "\n",
              "    .dataframe tbody tr th {\n",
              "        vertical-align: top;\n",
              "    }\n",
              "\n",
              "    .dataframe thead th {\n",
              "        text-align: right;\n",
              "    }\n",
              "</style>\n",
              "<table border=\"1\" class=\"dataframe\">\n",
              "  <thead>\n",
              "    <tr style=\"text-align: right;\">\n",
              "      <th></th>\n",
              "      <th>age</th>\n",
              "      <th>yredu</th>\n",
              "      <th>capgain</th>\n",
              "      <th>caploss</th>\n",
              "      <th>workhr</th>\n",
              "      <th>work_ Federal-gov</th>\n",
              "      <th>work_ Local-gov</th>\n",
              "      <th>work_ Private</th>\n",
              "      <th>work_ Self-emp-inc</th>\n",
              "      <th>work_ Self-emp-not-inc</th>\n",
              "      <th>...</th>\n",
              "      <th>edu_ Prof-school</th>\n",
              "      <th>edu_ Some-college</th>\n",
              "      <th>relationship_ Husband</th>\n",
              "      <th>relationship_ Not-in-family</th>\n",
              "      <th>relationship_ Other-relative</th>\n",
              "      <th>relationship_ Own-child</th>\n",
              "      <th>relationship_ Unmarried</th>\n",
              "      <th>relationship_ Wife</th>\n",
              "      <th>sex_ Female</th>\n",
              "      <th>sex_ Male</th>\n",
              "    </tr>\n",
              "  </thead>\n",
              "  <tbody>\n",
              "    <tr>\n",
              "      <th>0</th>\n",
              "      <td>0.301370</td>\n",
              "      <td>0.800000</td>\n",
              "      <td>0.02174</td>\n",
              "      <td>0.0</td>\n",
              "      <td>0.397959</td>\n",
              "      <td>0</td>\n",
              "      <td>0</td>\n",
              "      <td>0</td>\n",
              "      <td>0</td>\n",
              "      <td>0</td>\n",
              "      <td>...</td>\n",
              "      <td>0</td>\n",
              "      <td>0</td>\n",
              "      <td>0</td>\n",
              "      <td>1</td>\n",
              "      <td>0</td>\n",
              "      <td>0</td>\n",
              "      <td>0</td>\n",
              "      <td>0</td>\n",
              "      <td>0</td>\n",
              "      <td>1</td>\n",
              "    </tr>\n",
              "    <tr>\n",
              "      <th>1</th>\n",
              "      <td>0.452055</td>\n",
              "      <td>0.800000</td>\n",
              "      <td>0.00000</td>\n",
              "      <td>0.0</td>\n",
              "      <td>0.122449</td>\n",
              "      <td>0</td>\n",
              "      <td>0</td>\n",
              "      <td>0</td>\n",
              "      <td>0</td>\n",
              "      <td>1</td>\n",
              "      <td>...</td>\n",
              "      <td>0</td>\n",
              "      <td>0</td>\n",
              "      <td>1</td>\n",
              "      <td>0</td>\n",
              "      <td>0</td>\n",
              "      <td>0</td>\n",
              "      <td>0</td>\n",
              "      <td>0</td>\n",
              "      <td>0</td>\n",
              "      <td>1</td>\n",
              "    </tr>\n",
              "    <tr>\n",
              "      <th>2</th>\n",
              "      <td>0.287671</td>\n",
              "      <td>0.533333</td>\n",
              "      <td>0.00000</td>\n",
              "      <td>0.0</td>\n",
              "      <td>0.397959</td>\n",
              "      <td>0</td>\n",
              "      <td>0</td>\n",
              "      <td>1</td>\n",
              "      <td>0</td>\n",
              "      <td>0</td>\n",
              "      <td>...</td>\n",
              "      <td>0</td>\n",
              "      <td>0</td>\n",
              "      <td>0</td>\n",
              "      <td>1</td>\n",
              "      <td>0</td>\n",
              "      <td>0</td>\n",
              "      <td>0</td>\n",
              "      <td>0</td>\n",
              "      <td>0</td>\n",
              "      <td>1</td>\n",
              "    </tr>\n",
              "  </tbody>\n",
              "</table>\n",
              "<p>3 rows × 57 columns</p>\n",
              "</div>\n",
              "      <button class=\"colab-df-convert\" onclick=\"convertToInteractive('df-f8bfd0ed-99d7-4670-b95f-5730c7087502')\"\n",
              "              title=\"Convert this dataframe to an interactive table.\"\n",
              "              style=\"display:none;\">\n",
              "        \n",
              "  <svg xmlns=\"http://www.w3.org/2000/svg\" height=\"24px\"viewBox=\"0 0 24 24\"\n",
              "       width=\"24px\">\n",
              "    <path d=\"M0 0h24v24H0V0z\" fill=\"none\"/>\n",
              "    <path d=\"M18.56 5.44l.94 2.06.94-2.06 2.06-.94-2.06-.94-.94-2.06-.94 2.06-2.06.94zm-11 1L8.5 8.5l.94-2.06 2.06-.94-2.06-.94L8.5 2.5l-.94 2.06-2.06.94zm10 10l.94 2.06.94-2.06 2.06-.94-2.06-.94-.94-2.06-.94 2.06-2.06.94z\"/><path d=\"M17.41 7.96l-1.37-1.37c-.4-.4-.92-.59-1.43-.59-.52 0-1.04.2-1.43.59L10.3 9.45l-7.72 7.72c-.78.78-.78 2.05 0 2.83L4 21.41c.39.39.9.59 1.41.59.51 0 1.02-.2 1.41-.59l7.78-7.78 2.81-2.81c.8-.78.8-2.07 0-2.86zM5.41 20L4 18.59l7.72-7.72 1.47 1.35L5.41 20z\"/>\n",
              "  </svg>\n",
              "      </button>\n",
              "      \n",
              "  <style>\n",
              "    .colab-df-container {\n",
              "      display:flex;\n",
              "      flex-wrap:wrap;\n",
              "      gap: 12px;\n",
              "    }\n",
              "\n",
              "    .colab-df-convert {\n",
              "      background-color: #E8F0FE;\n",
              "      border: none;\n",
              "      border-radius: 50%;\n",
              "      cursor: pointer;\n",
              "      display: none;\n",
              "      fill: #1967D2;\n",
              "      height: 32px;\n",
              "      padding: 0 0 0 0;\n",
              "      width: 32px;\n",
              "    }\n",
              "\n",
              "    .colab-df-convert:hover {\n",
              "      background-color: #E2EBFA;\n",
              "      box-shadow: 0px 1px 2px rgba(60, 64, 67, 0.3), 0px 1px 3px 1px rgba(60, 64, 67, 0.15);\n",
              "      fill: #174EA6;\n",
              "    }\n",
              "\n",
              "    [theme=dark] .colab-df-convert {\n",
              "      background-color: #3B4455;\n",
              "      fill: #D2E3FC;\n",
              "    }\n",
              "\n",
              "    [theme=dark] .colab-df-convert:hover {\n",
              "      background-color: #434B5C;\n",
              "      box-shadow: 0px 1px 3px 1px rgba(0, 0, 0, 0.15);\n",
              "      filter: drop-shadow(0px 1px 2px rgba(0, 0, 0, 0.3));\n",
              "      fill: #FFFFFF;\n",
              "    }\n",
              "  </style>\n",
              "\n",
              "      <script>\n",
              "        const buttonEl =\n",
              "          document.querySelector('#df-f8bfd0ed-99d7-4670-b95f-5730c7087502 button.colab-df-convert');\n",
              "        buttonEl.style.display =\n",
              "          google.colab.kernel.accessAllowed ? 'block' : 'none';\n",
              "\n",
              "        async function convertToInteractive(key) {\n",
              "          const element = document.querySelector('#df-f8bfd0ed-99d7-4670-b95f-5730c7087502');\n",
              "          const dataTable =\n",
              "            await google.colab.kernel.invokeFunction('convertToInteractive',\n",
              "                                                     [key], {});\n",
              "          if (!dataTable) return;\n",
              "\n",
              "          const docLinkHtml = 'Like what you see? Visit the ' +\n",
              "            '<a target=\"_blank\" href=https://colab.research.google.com/notebooks/data_table.ipynb>data table notebook</a>'\n",
              "            + ' to learn more about interactive tables.';\n",
              "          element.innerHTML = '';\n",
              "          dataTable['output_type'] = 'display_data';\n",
              "          await google.colab.output.renderOutput(dataTable, element);\n",
              "          const docLink = document.createElement('div');\n",
              "          docLink.innerHTML = docLinkHtml;\n",
              "          element.appendChild(docLink);\n",
              "        }\n",
              "      </script>\n",
              "    </div>\n",
              "  </div>\n",
              "  "
            ],
            "text/plain": [
              "        age     yredu  capgain  caploss    workhr  work_ Federal-gov  \\\n",
              "0  0.301370  0.800000  0.02174      0.0  0.397959                  0   \n",
              "1  0.452055  0.800000  0.00000      0.0  0.122449                  0   \n",
              "2  0.287671  0.533333  0.00000      0.0  0.397959                  0   \n",
              "\n",
              "   work_ Local-gov  work_ Private  work_ Self-emp-inc  work_ Self-emp-not-inc  \\\n",
              "0                0              0                   0                       0   \n",
              "1                0              0                   0                       1   \n",
              "2                0              1                   0                       0   \n",
              "\n",
              "   ...  edu_ Prof-school  edu_ Some-college  relationship_ Husband  \\\n",
              "0  ...                 0                  0                      0   \n",
              "1  ...                 0                  0                      1   \n",
              "2  ...                 0                  0                      0   \n",
              "\n",
              "   relationship_ Not-in-family  relationship_ Other-relative  \\\n",
              "0                            1                             0   \n",
              "1                            0                             0   \n",
              "2                            1                             0   \n",
              "\n",
              "   relationship_ Own-child  relationship_ Unmarried  relationship_ Wife  \\\n",
              "0                        0                        0                   0   \n",
              "1                        0                        0                   0   \n",
              "2                        0                        0                   0   \n",
              "\n",
              "   sex_ Female  sex_ Male  \n",
              "0            0          1  \n",
              "1            0          1  \n",
              "2            0          1  \n",
              "\n",
              "[3 rows x 57 columns]"
            ]
          },
          "execution_count": 16,
          "metadata": {},
          "output_type": "execute_result"
        }
      ],
      "source": [
        "data[:3]"
      ]
    },
    {
      "cell_type": "markdown",
      "metadata": {
        "id": "HwjDg1uM1pqe"
      },
      "source": [
        "### Part (e) One-Hot Encoding [2 pt]\n",
        "\n",
        "The dataframe `data` contains the cleaned and normalized data that we will use to train our denoising autoencoder.\n",
        "\n",
        "How many **columns** (features) are in the dataframe `data`?\n",
        "\n",
        "Briefly explain where that number come from."
      ]
    },
    {
      "cell_type": "code",
      "execution_count": null,
      "metadata": {
        "colab": {
          "base_uri": "https://localhost:8080/"
        },
        "collapsed": true,
        "id": "yjZ5N0Tl1pqf",
        "outputId": "c4c582b5-4dd6-4786-8764-0bab689ba3e3"
      },
      "outputs": [
        {
          "data": {
            "text/plain": [
              "57"
            ]
          },
          "execution_count": 17,
          "metadata": {},
          "output_type": "execute_result"
        }
      ],
      "source": [
        "#Getting Num Cols\n",
        "len(data.columns)\n",
        "\n",
        "#57 columns"
      ]
    },
    {
      "cell_type": "markdown",
      "metadata": {
        "id": "5mYvNfUaNTF2"
      },
      "source": [
        "**There are 57 coloumns. The get_dummies function **"
      ]
    },
    {
      "cell_type": "markdown",
      "metadata": {
        "id": "OEJ0Ci3l1pqh"
      },
      "source": [
        "### Part (f) One-Hot Conversion [3 pt]\n",
        "\n",
        "We will convert the pandas data frame `data` into numpy, so that\n",
        "it can be further converted into a PyTorch tensor.\n",
        "However, in doing so, we lose the column label information that\n",
        "a panda data frame automatically stores.\n",
        "\n",
        "Complete the function `get_categorical_value` that will return\n",
        "the named value of a feature given a one-hot embedding.\n",
        "You may find the global variables `cat_index` and `cat_values`\n",
        "useful. (Display them and figure out what they are first.)\n",
        "\n",
        "We will need this function in the next part of the lab\n",
        "to interpret our autoencoder outputs. So, the input\n",
        "to our function `get_categorical_values` might not\n",
        "actually be \"one-hot\" -- the input may instead\n",
        "contain real-valued predictions from our neural network."
      ]
    },
    {
      "cell_type": "code",
      "execution_count": null,
      "metadata": {
        "collapsed": true,
        "id": "ZmovX6gu1pqi"
      },
      "outputs": [],
      "source": [
        "datanp = data.values.astype(np.float32)"
      ]
    },
    {
      "cell_type": "code",
      "execution_count": null,
      "metadata": {
        "collapsed": true,
        "id": "YRIa5MBd1pql"
      },
      "outputs": [],
      "source": [
        "cat_index = {}  # Mapping of feature -> start index of feature in a record\n",
        "cat_values = {} # Mapping of feature -> list of categorical values the feature can take\n",
        "\n",
        "# build up the cat_index and cat_values dictionary\n",
        "for i, header in enumerate(data.keys()):\n",
        "    if \"_\" in header: # categorical header\n",
        "        feature, value = header.split()\n",
        "        feature = feature[:-1] # remove the last char; it is always an underscore\n",
        "        if feature not in cat_index:\n",
        "            cat_index[feature] = i\n",
        "            cat_values[feature] = [value]\n",
        "        else:\n",
        "            cat_values[feature].append(value)\n",
        "\n",
        "def get_onehot(record, feature):\n",
        "    \"\"\"\n",
        "    Return the portion of `record` that is the one-hot encoding\n",
        "    of `feature`. For example, since the feature \"work\" is stored\n",
        "    in the indices [5:12] in each record, calling `get_range(record, \"work\")`\n",
        "    is equivalent to accessing `record[5:12]`.\n",
        "\n",
        "    Args:\n",
        "        - record: a numpy array representing one record, formatted\n",
        "                  the same way as a row in `data.np`\n",
        "        - feature: a string, should be an element of `catcols`\n",
        "    \"\"\"\n",
        "    start_index = cat_index[feature]\n",
        "    stop_index = cat_index[feature] + len(cat_values[feature])\n",
        "    return record[start_index:stop_index]\n",
        "\n",
        "def get_categorical_value(onehot, feature):\n",
        "    \"\"\"\n",
        "    Return the categorical value name of a feature given\n",
        "    a one-hot vector representing the feature.\n",
        "\n",
        "    Args:\n",
        "        - onehot: a numpy array one-hot representation of the feature\n",
        "        - feature: a string, should be an element of `catcols`\n",
        "\n",
        "    Examples:\n",
        "\n",
        "    >>> get_categorical_value(np.array([0., 0., 0., 0., 0., 1., 0.]), \"work\")\n",
        "    'State-gov'\n",
        "    >>> get_categorical_value(np.array([0.1, 0., 1.1, 0.2, 0., 1., 0.]), \"work\")\n",
        "    'Private'\n",
        "    \"\"\"\n",
        "    # <----- TODO: WRITE YOUR CODE HERE ----->\n",
        "    # You may find the variables `cat_index` and `cat_values`\n",
        "    # (created above) useful.\n",
        "\n",
        "    #ind = np.argmax(onehot)\n",
        "    #values = cat_values[features]\n",
        "    return cat_values[feature][np.argmax(onehot)]"
      ]
    },
    {
      "cell_type": "code",
      "execution_count": null,
      "metadata": {
        "collapsed": true,
        "id": "T_XXxZdh1pqv"
      },
      "outputs": [],
      "source": [
        "# more useful code, used during training, that depends on the function\n",
        "# you write above\n",
        "\n",
        "def get_feature(record, feature):\n",
        "    \"\"\"\n",
        "    Return the categorical feature value of a record\n",
        "    \"\"\"\n",
        "    onehot = get_onehot(record, feature)\n",
        "    return get_categorical_value(onehot, feature)\n",
        "\n",
        "def get_features(record):\n",
        "    \"\"\"\n",
        "    Return a dictionary of all categorical feature values of a record\n",
        "    \"\"\"\n",
        "    return { f: get_feature(record, f) for f in catcols }"
      ]
    },
    {
      "cell_type": "markdown",
      "metadata": {
        "id": "1_5ZZR_J1pqy"
      },
      "source": [
        "### Part (g) Train/Test Split [3 pt]\n",
        "\n",
        "Randomly split the data into approximately 70% training, 15% validation and 15% test.\n",
        "\n",
        "Report the number of items in your training, validation, and test set."
      ]
    },
    {
      "cell_type": "code",
      "execution_count": null,
      "metadata": {
        "colab": {
          "base_uri": "https://localhost:8080/"
        },
        "collapsed": true,
        "id": "TE_fTJJf1pqz",
        "outputId": "f2291bc2-9b69-4101-98f6-72aa12f278a9"
      },
      "outputs": [
        {
          "name": "stdout",
          "output_type": "stream",
          "text": [
            "Amount Training Set Data: 21502\n",
            "Amount Validation Set Data: 4608\n",
            "Amount Testing Set Data: 4608\n"
          ]
        }
      ],
      "source": [
        "# set the numpy seed for reproducibility\n",
        "# https://docs.scipy.org/doc/numpy/reference/generated/numpy.random.seed.html\n",
        "np.random.seed(50)\n",
        "\n",
        "train_ind = int(datanp.shape[0] * 0.7)\n",
        "val_ind = int(datanp.shape[0]* 0.85)\n",
        "\n",
        "train_dataset = datanp[:train_ind]\n",
        "val_dataset = datanp[train_ind: val_ind]\n",
        "test_dataset = datanp[val_ind:]\n",
        "\n",
        "\n",
        "print('Amount Training Set Data:', str(train_dataset.shape[0]))\n",
        "print('Amount Validation Set Data:', str(val_dataset.shape[0]))\n",
        "print('Amount Testing Set Data:', str(test_dataset.shape[0]))\n",
        "\n",
        "#Amount Training Set Data: 21502\n",
        "#Amount Validation Set Data: 4608\n",
        "#Amount Testing Set Data: 4608"
      ]
    },
    {
      "cell_type": "markdown",
      "metadata": {
        "id": "h9wJAKOI1pq3"
      },
      "source": [
        "## Part 2. Model Setup [5 pt]\n",
        "\n",
        "### Part (a) [4 pt]\n",
        "\n",
        "Design a fully-connected autoencoder by modifying the `encoder` and `decoder`\n",
        "below.\n",
        "\n",
        "The input to this autoencoder will be the features of the `data`, with\n",
        "one categorical feature recorded as \"missing\". The output of the autoencoder\n",
        "should be the reconstruction of the same features, but with the missing\n",
        "value filled in.\n",
        "\n",
        "**Note**: Do not reduce the dimensionality of the input too much!\n",
        "The output of your embedding is expected to contain information\n",
        "about ~11 features."
      ]
    },
    {
      "cell_type": "code",
      "execution_count": null,
      "metadata": {
        "collapsed": true,
        "id": "f3F--tdn1pq3"
      },
      "outputs": [],
      "source": [
        "from torch import nn\n",
        "\n",
        "class AutoEncoder(nn.Module):\n",
        "    def __init__(self):\n",
        "        super(AutoEncoder, self).__init__()\n",
        "        self.encoder = nn.Sequential(\n",
        "            nn.Linear(57, 43), # TODO -- FILL OUT THE CODE HERE!\n",
        "            nn.Linear(43,29),\n",
        "            nn.Linear(29, 15)\n",
        "        )\n",
        "        self.decoder = nn.Sequential(\n",
        "            nn.Linear(15, 29), # TODO -- FILL OUT THE CODE HERE!\n",
        "            nn.Linear(29, 43),\n",
        "            nn.Linear(43,57),\n",
        "            nn.Sigmoid() # get to the range (0, 1)\n",
        "        )\n",
        "\n",
        "    def forward(self, x):\n",
        "        x = self.encoder(x)\n",
        "        x = self.decoder(x)\n",
        "        return x"
      ]
    },
    {
      "cell_type": "markdown",
      "metadata": {
        "id": "kuEzTSAv1pq6"
      },
      "source": [
        "### Part (b) [1 pt]\n",
        "\n",
        "Explain why there is a sigmoid activation in the last step of the decoder.\n",
        "\n",
        "(**Note**: the values inside the data frame `data` and the training code in Part 3 might be helpful.)"
      ]
    },
    {
      "cell_type": "markdown",
      "metadata": {
        "id": "vzvdkmcLeyNi"
      },
      "source": [
        "**Since our data has been normalized to be withtin the range of 0 to 1 the sigmoid function matches the format of our input as the sigmoid fuction also produces an output in the range of 0 and 1, enabling the decoder to match the inputs of the encoder**"
      ]
    },
    {
      "cell_type": "markdown",
      "metadata": {
        "id": "jYwqFWVl1pq8"
      },
      "source": [
        "## Part 3. Training [18]\n",
        "\n",
        "### Part (a) [6 pt]\n",
        "\n",
        "We will train our autoencoder in the following way:\n",
        "\n",
        "- In each iteration, we will hide one of the categorical features using the `zero_out_random_features` function\n",
        "- We will pass the data with one missing feature through the autoencoder, and obtain a reconstruction\n",
        "- We will check how close the reconstruction is compared to the original data -- including the value of the missing feature\n",
        "\n",
        "Complete the code to train the autoencoder, and plot the training and validation loss every few iterations.\n",
        "You may also want to plot training and validation \"accuracy\" every few iterations, as we will define in\n",
        "part (b). You may also want to checkpoint your model every few iterations or epochs.\n",
        "\n",
        "Use `nn.MSELoss()` as your loss function. (Side note: you might recognize that this loss function is not\n",
        "ideal for this problem, but we will use it anyway.)"
      ]
    },
    {
      "cell_type": "code",
      "execution_count": null,
      "metadata": {
        "collapsed": true,
        "id": "IDQA_-dS1pq9"
      },
      "outputs": [],
      "source": [
        "def zero_out_feature(records, feature):\n",
        "    \"\"\" Set the feature missing in records, by setting the appropriate\n",
        "    columns of records to 0\n",
        "    \"\"\"\n",
        "    start_index = cat_index[feature]\n",
        "    stop_index = cat_index[feature] + len(cat_values[feature])\n",
        "    records[:, start_index:stop_index] = 0\n",
        "    return records\n",
        "\n",
        "def zero_out_random_feature(records):\n",
        "    \"\"\" Set one random feature missing in records, by setting the\n",
        "    appropriate columns of records to 0\n",
        "    \"\"\"\n",
        "    return zero_out_feature(records, random.choice(catcols))\n",
        "\n",
        "def get_val_loss(model, data_loader, criterion):\n",
        "  total_val_loss = 0\n",
        "  i = 0\n",
        "  for data in data_loader:\n",
        "    datam = zero_out_random_feature(data.clone())\n",
        "    recon = model(datam)\n",
        "    loss = criterion(recon, data)\n",
        "    total_val_loss += loss.item()\n",
        "    i += 1\n",
        "  return total_val_loss/(i + 1)\n",
        "\n",
        "def train(model, train_loader, valid_loader, num_epochs=5, learning_rate=1e-4):\n",
        "    \"\"\" Training loop. You should update this.\"\"\"\n",
        "    torch.manual_seed(42)\n",
        "    criterion = nn.MSELoss()\n",
        "    optimizer = torch.optim.Adam(model.parameters(), lr=learning_rate)\n",
        "\n",
        "    train_accuracy = np.zeros(num_epochs)\n",
        "    val_accuracy = np.zeros(num_epochs)\n",
        "    train_loss = np.zeros(num_epochs)\n",
        "    val_loss = np.zeros(num_epochs)\n",
        "\n",
        "    for epoch in range(num_epochs):\n",
        "      total_loss = 0\n",
        "      i = 0\n",
        "      for data in train_loader:\n",
        "            datam = zero_out_random_feature(data.clone()) # zero out one categorical feature\n",
        "            recon = model(datam)\n",
        "            loss = criterion(recon, data)\n",
        "            loss.backward()\n",
        "            optimizer.step()\n",
        "            optimizer.zero_grad()\n",
        "\n",
        "            total_loss += loss.item()\n",
        "            i +=1\n",
        "      train_accuracy[epoch] = get_accuracy(model, train_loader)\n",
        "      val_accuracy[epoch] = get_accuracy(model,valid_loader)\n",
        "      train_loss[epoch] = float(total_loss)/(i+1)\n",
        "      val_loss[epoch] = get_val_loss(model, valid_loader, criterion)\n",
        "\n",
        "      print(\"epoch:\", epoch, end=\" \")\n",
        "      print(\"train accuracy:\", train_accuracy[epoch], end=\" \")\n",
        "      print(\"val accuracy:\", val_accuracy[epoch])\n",
        "\n",
        "    epochs = np.arange(1, num_epochs + 1)\n",
        "\n",
        "\n",
        "\n",
        "\n",
        "\n",
        "    return train_accuracy, val_accuracy, train_loss, val_loss, epochs"
      ]
    },
    {
      "cell_type": "markdown",
      "metadata": {
        "id": "WKk01pwx1pq_"
      },
      "source": [
        "### Part (b) [3 pt]\n",
        "\n",
        "While plotting training and validation loss is valuable, loss values are harder to compare\n",
        "than accuracy percentages. It would be nice to have a measure of \"accuracy\" in this problem.\n",
        "\n",
        "Since we will only be imputing missing categorical values, we will define an accuracy measure.\n",
        "For each record and for each categorical feature, we determine whether\n",
        "the model can predict the categorical feature given all the other features of the record.\n",
        "\n",
        "A function `get_accuracy` is written for you. It is up to you to figure out how to\n",
        "use the function. **You don't need to submit anything in this part.**\n",
        "To earn the marks, correctly plot the training and validation accuracy every few\n",
        "iterations as part of your training curve."
      ]
    },
    {
      "cell_type": "code",
      "execution_count": null,
      "metadata": {
        "collapsed": true,
        "id": "bHWLfCzM1pq_"
      },
      "outputs": [],
      "source": [
        "def get_accuracy(model, data_loader):\n",
        "    \"\"\"Return the \"accuracy\" of the autoencoder model across a data set.\n",
        "    That is, for each record and for each categorical feature,\n",
        "    we determine whether the model can successfully predict the value\n",
        "    of the categorical feature given all the other features of the\n",
        "    record. The returned \"accuracy\" measure is the percentage of times\n",
        "    that our model is successful.\n",
        "\n",
        "    Args:\n",
        "       - model: the autoencoder model, an instance of nn.Module\n",
        "       - data_loader: an instance of torch.utils.data.DataLoader\n",
        "\n",
        "    Example (to illustrate how get_accuracy is intended to be called.\n",
        "             Depending on your variable naming this code might require\n",
        "             modification.)\n",
        "\n",
        "        >>> model = AutoEncoder()\n",
        "        >>> vdl = torch.utils.data.DataLoader(data_valid, batch_size=256, shuffle=True)\n",
        "        >>> get_accuracy(model, vdl)\n",
        "    \"\"\"\n",
        "    total = 0\n",
        "    acc = 0\n",
        "    for col in catcols:\n",
        "        for item in data_loader: # minibatches\n",
        "            inp = item.detach().numpy()\n",
        "            out = model(zero_out_feature(item.clone(), col)).detach().numpy()\n",
        "            for i in range(out.shape[0]): # record in minibatch\n",
        "                acc += int(get_feature(out[i], col) == get_feature(inp[i], col))\n",
        "                total += 1\n",
        "    return acc / total"
      ]
    },
    {
      "cell_type": "markdown",
      "metadata": {
        "id": "SxCTlXoV1prB"
      },
      "source": [
        "### Part (c) [4 pt]\n",
        "\n",
        "Run your updated training code, using reasonable initial hyperparameters.\n",
        "\n",
        "Include your training curve in your submission."
      ]
    },
    {
      "cell_type": "code",
      "execution_count": null,
      "metadata": {
        "colab": {
          "base_uri": "https://localhost:8080/",
          "height": 1000
        },
        "collapsed": true,
        "id": "nj5b71l-1prC",
        "outputId": "a509b133-8977-4297-d2fb-361f4eeaca2c"
      },
      "outputs": [
        {
          "name": "stdout",
          "output_type": "stream",
          "text": [
            "epoch: 0 train accuracy: 0.43608346510402135 val accuracy: 0.4354383680555556\n",
            "epoch: 1 train accuracy: 0.4585309893653304 val accuracy: 0.4581163194444444\n",
            "epoch: 2 train accuracy: 0.4566861997333581 val accuracy: 0.45533130787037035\n",
            "epoch: 3 train accuracy: 0.5249821722010356 val accuracy: 0.5236906828703703\n",
            "epoch: 4 train accuracy: 0.5373841193067311 val accuracy: 0.5355541087962963\n",
            "epoch: 5 train accuracy: 0.5512122903295817 val accuracy: 0.5482855902777778\n",
            "epoch: 6 train accuracy: 0.5603819799708554 val accuracy: 0.5572193287037037\n",
            "epoch: 7 train accuracy: 0.5652962515114873 val accuracy: 0.5620659722222222\n",
            "epoch: 8 train accuracy: 0.5672883142653397 val accuracy: 0.5680338541666666\n",
            "epoch: 9 train accuracy: 0.5665519486559389 val accuracy: 0.5682146990740741\n",
            "epoch: 10 train accuracy: 0.568629274796143 val accuracy: 0.5712167245370371\n",
            "epoch: 11 train accuracy: 0.570714352153288 val accuracy: 0.5735677083333334\n",
            "epoch: 12 train accuracy: 0.5722103370229126 val accuracy: 0.5762442129629629\n",
            "epoch: 13 train accuracy: 0.5808451926952531 val accuracy: 0.5851056134259259\n",
            "epoch: 14 train accuracy: 0.5847828109013115 val accuracy: 0.5866608796296297\n",
            "epoch: 15 train accuracy: 0.5886196632871361 val accuracy: 0.5896629050925926\n",
            "epoch: 16 train accuracy: 0.5908287601153381 val accuracy: 0.5903139467592593\n",
            "epoch: 17 train accuracy: 0.5903404334480513 val accuracy: 0.5901692708333334\n",
            "epoch: 18 train accuracy: 0.5924022571543732 val accuracy: 0.5916521990740741\n",
            "epoch: 19 train accuracy: 0.5879220537624407 val accuracy: 0.5881799768518519\n",
            "epoch: 20 train accuracy: 0.5923014913341395 val accuracy: 0.5917245370370371\n",
            "epoch: 21 train accuracy: 0.5958282950423216 val accuracy: 0.5941478587962963\n",
            "epoch: 22 train accuracy: 0.5952392025548011 val accuracy: 0.5937138310185185\n",
            "epoch: 23 train accuracy: 0.597432796949121 val accuracy: 0.5959201388888888\n",
            "epoch: 24 train accuracy: 0.5991845719778005 val accuracy: 0.5970775462962963\n",
            "epoch: 25 train accuracy: 0.6006340495457787 val accuracy: 0.5984881365740741\n",
            "epoch: 26 train accuracy: 0.6046336774873655 val accuracy: 0.6034794560185185\n",
            "epoch: 27 train accuracy: 0.6028896536756271 val accuracy: 0.6011646412037037\n",
            "epoch: 28 train accuracy: 0.6030756828822125 val accuracy: 0.6015263310185185\n",
            "epoch: 29 train accuracy: 0.6024788391777509 val accuracy: 0.6004774305555556\n"
          ]
        },
        {
          "data": {
            "image/png": "[encoded data removed]",
            "text/plain": [
              "<Figure size 640x480 with 1 Axes>"
            ]
          },
          "metadata": {},
          "output_type": "display_data"
        },
        {
          "data": {
            "image/png": "[encoded data removed]",
            "text/plain": [
              "<Figure size 640x480 with 1 Axes>"
            ]
          },
          "metadata": {},
          "output_type": "display_data"
        },
        {
          "data": {
            "image/png": "[encoded data removed]",
            "text/plain": [
              "<Figure size 640x480 with 1 Axes>"
            ]
          },
          "metadata": {},
          "output_type": "display_data"
        }
      ],
      "source": [
        "#Initalize Parameters\n",
        "batch_size = 64\n",
        "train_loader = torch.utils.data.DataLoader(train_dataset, batch_size = batch_size, num_workers = 1)\n",
        "val_loader = torch.utils.data.DataLoader(val_dataset, batch_size = batch_size,  num_workers = 1)\n",
        "test_loader = torch.utils.data.DataLoader(test_dataset, batch_size = batch_size, num_workers = 1)\n",
        "\n",
        "autoencoder = AutoEncoder()\n",
        "\n",
        "num_epochs, train_accuracy, val_accuracy, train_loss, val_loss = train(autoencoder, train_loader, val_loader, num_epochs=30, learning_rate=0.0001)\n",
        "\n",
        "\n",
        "\n",
        "\n"
      ]
    },
    {
      "cell_type": "markdown",
      "metadata": {
        "id": "h9xTwIf51prF"
      },
      "source": [
        "### Part (d) [5 pt]\n",
        "\n",
        "Tune your hyperparameters, training at least 4 different models (4 sets of hyperparameters).\n",
        "\n",
        "Do not include all your training curves. Instead, explain what hyperparameters\n",
        "you tried, what their effect was, and what your thought process was as you\n",
        "chose the next set of hyperparameters to try."
      ]
    },
    {
      "cell_type": "code",
      "execution_count": null,
      "metadata": {
        "colab": {
          "base_uri": "https://localhost:8080/",
          "height": 1000
        },
        "collapsed": true,
        "id": "PhTKt9iL1prG",
        "outputId": "06111a1b-e69e-4849-97d6-f0536c33f22d"
      },
      "outputs": [
        {
          "name": "stdout",
          "output_type": "stream",
          "text": [
            "epoch: 0 train accuracy: 0.5603897311877964 val accuracy: 0.5591724537037037\n",
            "epoch: 1 train accuracy: 0.5768688184044896 val accuracy: 0.5785228587962963\n",
            "epoch: 2 train accuracy: 0.5818838557653552 val accuracy: 0.5887225115740741\n",
            "epoch: 3 train accuracy: 0.5912163209623911 val accuracy: 0.5964988425925926\n",
            "epoch: 4 train accuracy: 0.5864260688928161 val accuracy: 0.5837311921296297\n",
            "epoch: 5 train accuracy: 0.6026028586488079 val accuracy: 0.6019965277777778\n",
            "epoch: 6 train accuracy: 0.6009596006573033 val accuracy: 0.5994646990740741\n",
            "epoch: 7 train accuracy: 0.6169968685083558 val accuracy: 0.6154152199074074\n",
            "epoch: 8 train accuracy: 0.6101913000341054 val accuracy: 0.6103515625\n",
            "epoch: 9 train accuracy: 0.614431215700865 val accuracy: 0.6130280671296297\n",
            "epoch: 10 train accuracy: 0.6097804855362292 val accuracy: 0.6092664930555556\n",
            "epoch: 11 train accuracy: 0.6126871918891266 val accuracy: 0.6111111111111112\n",
            "epoch: 12 train accuracy: 0.6135398257526432 val accuracy: 0.6091218171296297\n",
            "epoch: 13 train accuracy: 0.6228335348649738 val accuracy: 0.6185619212962963\n",
            "epoch: 14 train accuracy: 0.620918984280532 val accuracy: 0.6138961226851852\n",
            "epoch: 15 train accuracy: 0.6126484358044213 val accuracy: 0.6070240162037037\n",
            "epoch: 16 train accuracy: 0.6148497814156823 val accuracy: 0.6085069444444444\n",
            "epoch: 17 train accuracy: 0.6225777447059189 val accuracy: 0.6185257523148148\n",
            "epoch: 18 train accuracy: 0.6246938269308281 val accuracy: 0.6199725115740741\n",
            "epoch: 19 train accuracy: 0.6261122996310421 val accuracy: 0.6222511574074074\n",
            "epoch: 20 train accuracy: 0.6254224413232877 val accuracy: 0.6221426504629629\n",
            "epoch: 21 train accuracy: 0.6229343006852076 val accuracy: 0.6183087384259259\n",
            "epoch: 22 train accuracy: 0.6183533314730413 val accuracy: 0.6141854745370371\n",
            "epoch: 23 train accuracy: 0.622980807986854 val accuracy: 0.6192491319444444\n",
            "epoch: 24 train accuracy: 0.6202523796236009 val accuracy: 0.6142939814814815\n",
            "epoch: 25 train accuracy: 0.6151210740086194 val accuracy: 0.6099175347222222\n",
            "epoch: 26 train accuracy: 0.6179657706259882 val accuracy: 0.6122323495370371\n",
            "epoch: 27 train accuracy: 0.6245310513750659 val accuracy: 0.6183810763888888\n",
            "epoch: 28 train accuracy: 0.626879670108207 val accuracy: 0.6221064814814815\n",
            "epoch: 29 train accuracy: 0.626492109261154 val accuracy: 0.6199001736111112\n",
            "epoch: 30 train accuracy: 0.6265851238644468 val accuracy: 0.6224681712962963\n",
            "epoch: 31 train accuracy: 0.6246860757138871 val accuracy: 0.6202618634259259\n",
            "epoch: 32 train accuracy: 0.6268099091557374 val accuracy: 0.6220703125\n",
            "epoch: 33 train accuracy: 0.6313598735001396 val accuracy: 0.6281105324074074\n",
            "epoch: 34 train accuracy: 0.6260347874616314 val accuracy: 0.6216362847222222\n",
            "epoch: 35 train accuracy: 0.6285384305335938 val accuracy: 0.6240234375\n",
            "epoch: 36 train accuracy: 0.630251449477568 val accuracy: 0.6257595486111112\n",
            "epoch: 37 train accuracy: 0.6307862834465011 val accuracy: 0.6260489004629629\n",
            "epoch: 38 train accuracy: 0.6296933618578117 val accuracy: 0.6252531828703703\n",
            "epoch: 39 train accuracy: 0.6243682758193037 val accuracy: 0.6192129629629629\n",
            "epoch: 40 train accuracy: 0.6319024586860137 val accuracy: 0.6271701388888888\n",
            "epoch: 41 train accuracy: 0.63246054630577 val accuracy: 0.6263020833333334\n",
            "epoch: 42 train accuracy: 0.6308560443989706 val accuracy: 0.6246383101851852\n",
            "epoch: 43 train accuracy: 0.6349564381607913 val accuracy: 0.6296657986111112\n",
            "epoch: 44 train accuracy: 0.6344913651443277 val accuracy: 0.6293402777777778\n",
            "epoch: 45 train accuracy: 0.6308560443989706 val accuracy: 0.6248191550925926\n",
            "epoch: 46 train accuracy: 0.6355067745636065 val accuracy: 0.6302083333333334\n",
            "epoch: 47 train accuracy: 0.6350029454624376 val accuracy: 0.6295572916666666\n",
            "epoch: 48 train accuracy: 0.6318249465166031 val accuracy: 0.6266276041666666\n",
            "epoch: 49 train accuracy: 0.6369097448299383 val accuracy: 0.6311487268518519\n",
            "epoch: 50 train accuracy: 0.629468576566521 val accuracy: 0.6234447337962963\n",
            "epoch: 51 train accuracy: 0.6360493597494806 val accuracy: 0.6325231481481481\n",
            "epoch: 52 train accuracy: 0.6366539546708834 val accuracy: 0.6323061342592593\n",
            "epoch: 53 train accuracy: 0.638808792980498 val accuracy: 0.6354528356481481\n",
            "epoch: 54 train accuracy: 0.6375841007038106 val accuracy: 0.6338614004629629\n",
            "epoch: 55 train accuracy: 0.6376383592223979 val accuracy: 0.6327763310185185\n",
            "epoch: 56 train accuracy: 0.636870988745233 val accuracy: 0.6333188657407407\n",
            "epoch: 57 train accuracy: 0.642583635630794 val accuracy: 0.6380931712962963\n",
            "epoch: 58 train accuracy: 0.6381964468421543 val accuracy: 0.6344401041666666\n",
            "epoch: 59 train accuracy: 0.6414364555235172 val accuracy: 0.6371166087962963\n",
            "epoch: 60 train accuracy: 0.639986977955539 val accuracy: 0.6356336805555556\n",
            "epoch: 61 train accuracy: 0.6391343440920224 val accuracy: 0.6325954861111112\n",
            "epoch: 62 train accuracy: 0.6390490807056708 val accuracy: 0.6332465277777778\n",
            "epoch: 63 train accuracy: 0.6414597091743404 val accuracy: 0.6358506944444444\n",
            "epoch: 64 train accuracy: 0.6367004619725297 val accuracy: 0.6323784722222222\n",
            "epoch: 65 train accuracy: 0.6391343440920224 val accuracy: 0.6352358217592593\n",
            "epoch: 66 train accuracy: 0.6419170309738629 val accuracy: 0.6350911458333334\n",
            "epoch: 67 train accuracy: 0.6416999968995132 val accuracy: 0.6384186921296297\n",
            "epoch: 68 train accuracy: 0.6403512851517689 val accuracy: 0.6352358217592593\n",
            "epoch: 69 train accuracy: 0.6370802716026416 val accuracy: 0.6318721064814815\n",
            "epoch: 70 train accuracy: 0.6431494744674914 val accuracy: 0.6379484953703703\n",
            "epoch: 71 train accuracy: 0.6414442067404582 val accuracy: 0.6363932291666666\n",
            "epoch: 72 train accuracy: 0.6408628654698788 val accuracy: 0.6344039351851852\n",
            "epoch: 73 train accuracy: 0.6413899482218708 val accuracy: 0.6344762731481481\n",
            "epoch: 74 train accuracy: 0.6380569249372151 val accuracy: 0.6310402199074074\n",
            "epoch: 75 train accuracy: 0.6395296561560165 val accuracy: 0.6333912037037037\n",
            "epoch: 76 train accuracy: 0.6413279384863424 val accuracy: 0.6359230324074074\n",
            "epoch: 77 train accuracy: 0.6426146404985583 val accuracy: 0.6369719328703703\n",
            "epoch: 78 train accuracy: 0.6387002759433231 val accuracy: 0.634765625\n",
            "epoch: 79 train accuracy: 0.642839425789849 val accuracy: 0.6388527199074074\n",
            "epoch: 80 train accuracy: 0.6428549282237311 val accuracy: 0.6389250578703703\n",
            "epoch: 81 train accuracy: 0.6426844014510278 val accuracy: 0.6375144675925926\n",
            "epoch: 82 train accuracy: 0.6428239233559669 val accuracy: 0.6370804398148148\n",
            "epoch: 83 train accuracy: 0.6457538833596874 val accuracy: 0.6409505208333334\n",
            "epoch: 84 train accuracy: 0.641149660496698 val accuracy: 0.6361400462962963\n",
            "epoch: 85 train accuracy: 0.6437850742566583 val accuracy: 0.6395037615740741\n",
            "epoch: 86 train accuracy: 0.6424751185936192 val accuracy: 0.6368634259259259\n",
            "epoch: 87 train accuracy: 0.6452578054754596 val accuracy: 0.6410951967592593\n",
            "epoch: 88 train accuracy: 0.6460639320373298 val accuracy: 0.6409866898148148\n",
            "epoch: 89 train accuracy: 0.6426223917154993 val accuracy: 0.6375506365740741\n",
            "epoch: 90 train accuracy: 0.6385452516045019 val accuracy: 0.6341869212962963\n",
            "epoch: 91 train accuracy: 0.6450872787027563 val accuracy: 0.6409143518518519\n",
            "epoch: 92 train accuracy: 0.6475754193408365 val accuracy: 0.6432653356481481\n",
            "epoch: 93 train accuracy: 0.6452733079093418 val accuracy: 0.6414207175925926\n",
            "epoch: 94 train accuracy: 0.644916751930053 val accuracy: 0.6410590277777778\n",
            "epoch: 95 train accuracy: 0.6446067032524107 val accuracy: 0.6420717592592593\n",
            "epoch: 96 train accuracy: 0.647257619446253 val accuracy: 0.6430121527777778\n",
            "epoch: 97 train accuracy: 0.6470095805041391 val accuracy: 0.6419994212962963\n",
            "epoch: 98 train accuracy: 0.644265649707004 val accuracy: 0.6390335648148148\n",
            "epoch: 99 train accuracy: 0.6465600099215577 val accuracy: 0.6398654513888888\n"
          ]
        },
        {
          "data": {
            "image/png": "[encoded data removed]",
            "text/plain": [
              "<Figure size 640x480 with 1 Axes>"
            ]
          },
          "metadata": {},
          "output_type": "display_data"
        },
        {
          "data": {
            "image/png": "[encoded data removed]",
            "text/plain": [
              "<Figure size 640x480 with 1 Axes>"
            ]
          },
          "metadata": {},
          "output_type": "display_data"
        },
        {
          "data": {
            "image/png": "[encoded data removed]",
            "text/plain": [
              "<Figure size 640x480 with 1 Axes>"
            ]
          },
          "metadata": {},
          "output_type": "display_data"
        }
      ],
      "source": [
        "train_loader = torch.utils.data.DataLoader(train_dataset, batch_size=80, shuffle=True)\n",
        "valid_loader = torch.utils.data.DataLoader(val_dataset, batch_size=80, shuffle=True)\n",
        "model = AutoEncoder()\n",
        "train(model, train_loader, valid_loader, num_epochs=100, learning_rate = 0.001)\n",
        " #Plotting\n",
        "plt.title(\"Training vs Validation Accuracy\")\n",
        "plt.plot(num_epochs, train_accuracy, label=\"Train\")\n",
        "plt.plot(num_epochs, val_accuracy, label=\"Val\")\n",
        "plt.xlabel(\"Epochs\")\n",
        "plt.ylabel(\"Accuracy\")\n",
        "plt.legend(loc='best')\n",
        "plt.show()\n",
        "\n",
        "plt.title(\"Training Loss\")\n",
        "plt.plot(num_epochs, train_loss, label=\"Train\")\n",
        "plt.xlabel(\"Epochs\")\n",
        "plt.ylabel(\"Train Loss\")\n",
        "plt.legend(loc='best')\n",
        "plt.show()\n",
        "\n",
        "plt.title(\"Validation Loss\")\n",
        "plt.plot(num_epochs, val_loss, label=\"Val\")\n",
        "plt.xlabel(\"Epochs\")\n",
        "plt.ylabel(\"Validation Loss\")\n",
        "plt.legend(loc='best')\n",
        "plt.show()"
      ]
    },
    {
      "cell_type": "code",
      "execution_count": null,
      "metadata": {
        "colab": {
          "background_save": true,
          "base_uri": "https://localhost:8080/"
        },
        "id": "jl0lM1JZTgol",
        "outputId": "7c034718-cdfd-4d18-cf3a-864560827e2b"
      },
      "outputs": [
        {
          "name": "stdout",
          "output_type": "stream",
          "text": [
            "epoch: 0 train accuracy: 0.5972622701764176 val accuracy: 0.5972945601851852\n",
            "epoch: 1 train accuracy: 0.5904489504852262 val accuracy: 0.5884693287037037\n",
            "epoch: 2 train accuracy: 0.5970529873190091 val accuracy: 0.5934968171296297\n",
            "epoch: 3 train accuracy: 0.5915186184230924 val accuracy: 0.5890118634259259\n",
            "epoch: 4 train accuracy: 0.592371252286609 val accuracy: 0.5900245949074074\n",
            "epoch: 5 train accuracy: 0.5919449353548507 val accuracy: 0.5880714699074074\n",
            "epoch: 6 train accuracy: 0.5923557498527269 val accuracy: 0.5863353587962963\n",
            "epoch: 7 train accuracy: 0.5877515269897374 val accuracy: 0.5841652199074074\n",
            "epoch: 8 train accuracy: 0.6078736861687285 val accuracy: 0.6081814236111112\n",
            "epoch: 9 train accuracy: 0.6098735001395219 val accuracy: 0.6080729166666666\n",
            "epoch: 10 train accuracy: 0.615865190834961 val accuracy: 0.6123408564814815\n",
            "epoch: 11 train accuracy: 0.6169581124236505 val accuracy: 0.6131727430555556\n",
            "epoch: 12 train accuracy: 0.6163302638514246 val accuracy: 0.611328125\n",
            "epoch: 13 train accuracy: 0.6164310296716584 val accuracy: 0.6153790509259259\n",
            "epoch: 14 train accuracy: 0.6192369702043221 val accuracy: 0.6175130208333334\n",
            "epoch: 15 train accuracy: 0.623120329891793 val accuracy: 0.6198278356481481\n",
            "epoch: 16 train accuracy: 0.6234613834371996 val accuracy: 0.6191767939814815\n",
            "epoch: 17 train accuracy: 0.6169038539050631 val accuracy: 0.6139684606481481\n",
            "epoch: 18 train accuracy: 0.6284221622794779 val accuracy: 0.6269892939814815\n",
            "epoch: 19 train accuracy: 0.6229730567699129 val accuracy: 0.6178023726851852\n",
            "epoch: 20 train accuracy: 0.6181595510495148 val accuracy: 0.6166811342592593\n",
            "epoch: 21 train accuracy: 0.6241899978296592 val accuracy: 0.6203342013888888\n",
            "epoch: 22 train accuracy: 0.6152373422627353 val accuracy: 0.6123408564814815\n",
            "epoch: 23 train accuracy: 0.6178727560226955 val accuracy: 0.6165726273148148\n",
            "epoch: 24 train accuracy: 0.6162992589836604 val accuracy: 0.6142578125\n",
            "epoch: 25 train accuracy: 0.6258797631228102 val accuracy: 0.6242404513888888\n",
            "epoch: 26 train accuracy: 0.6176557219483458 val accuracy: 0.6165364583333334\n",
            "epoch: 27 train accuracy: 0.6287399621740614 val accuracy: 0.6258318865740741\n",
            "epoch: 28 train accuracy: 0.6295073326512263 val accuracy: 0.6303891782407407\n",
            "epoch: 29 train accuracy: 0.6260115338108083 val accuracy: 0.6246744791666666\n",
            "epoch: 30 train accuracy: 0.6301351812234521 val accuracy: 0.6261212384259259\n",
            "epoch: 31 train accuracy: 0.6262595727529222 val accuracy: 0.6231553819444444\n",
            "epoch: 32 train accuracy: 0.6320807366756581 val accuracy: 0.6293402777777778\n",
            "epoch: 33 train accuracy: 0.6303909713825071 val accuracy: 0.6296296296296297\n",
            "epoch: 34 train accuracy: 0.6084860323070722 val accuracy: 0.6059751157407407\n",
            "epoch: 35 train accuracy: 0.6283291476761852 val accuracy: 0.6231192129629629\n",
            "epoch: 36 train accuracy: 0.6296778594239295 val accuracy: 0.6285807291666666\n",
            "epoch: 37 train accuracy: 0.6371732862059344 val accuracy: 0.6325231481481481\n",
            "epoch: 38 train accuracy: 0.6371422813381701 val accuracy: 0.6345486111111112\n",
            "epoch: 39 train accuracy: 0.6332821753015223 val accuracy: 0.6312210648148148\n",
            "epoch: 40 train accuracy: 0.6217948717948718 val accuracy: 0.6184172453703703\n",
            "epoch: 41 train accuracy: 0.6354757696958423 val accuracy: 0.6328486689814815\n",
            "epoch: 42 train accuracy: 0.622345208197687 val accuracy: 0.6166811342592593\n",
            "epoch: 43 train accuracy: 0.632468297522711 val accuracy: 0.6303891782407407\n",
            "epoch: 44 train accuracy: 0.6308560443989706 val accuracy: 0.6276765046296297\n",
            "epoch: 45 train accuracy: 0.6390645831395529 val accuracy: 0.6360315393518519\n",
            "epoch: 46 train accuracy: 0.628693454872415 val accuracy: 0.6244212962962963\n",
            "epoch: 47 train accuracy: 0.6359020866276005 val accuracy: 0.6334273726851852\n",
            "epoch: 48 train accuracy: 0.6262595727529222 val accuracy: 0.6242766203703703\n",
            "epoch: 49 train accuracy: 0.6386072613400304 val accuracy: 0.6385995370370371\n",
            "epoch: 50 train accuracy: 0.6400877437757728 val accuracy: 0.6386357060185185\n",
            "epoch: 51 train accuracy: 0.6302824543453323 val accuracy: 0.6265190972222222\n",
            "epoch: 52 train accuracy: 0.6265463677797414 val accuracy: 0.6259765625\n",
            "epoch: 53 train accuracy: 0.6375996031376926 val accuracy: 0.6325954861111112\n",
            "epoch: 54 train accuracy: 0.6243217685176573 val accuracy: 0.6201533564814815\n",
            "epoch: 55 train accuracy: 0.6316544197438998 val accuracy: 0.6310040509259259\n",
            "epoch: 56 train accuracy: 0.634413852974917 val accuracy: 0.6305338541666666\n",
            "epoch: 57 train accuracy: 0.6352509844045515 val accuracy: 0.6316912615740741\n",
            "epoch: 58 train accuracy: 0.6365221839828853 val accuracy: 0.6322699652777778\n",
            "epoch: 59 train accuracy: 0.6334139459895204 val accuracy: 0.62890625\n",
            "epoch: 60 train accuracy: 0.6369562521315847 val accuracy: 0.6336443865740741\n",
            "epoch: 61 train accuracy: 0.6261200508479832 val accuracy: 0.6225043402777778\n",
            "epoch: 62 train accuracy: 0.6377546274765138 val accuracy: 0.6358868634259259\n",
            "epoch: 63 train accuracy: 0.6403435339348278 val accuracy: 0.6383101851851852\n",
            "epoch: 64 train accuracy: 0.6366617058878243 val accuracy: 0.6353081597222222\n",
            "epoch: 65 train accuracy: 0.6448314885437013 val accuracy: 0.6394675925925926\n",
            "epoch: 66 train accuracy: 0.6424131088580908 val accuracy: 0.6408420138888888\n",
            "epoch: 67 train accuracy: 0.6319257123368369 val accuracy: 0.6265190972222222\n",
            "epoch: 68 train accuracy: 0.6446687129879392 val accuracy: 0.6409866898148148\n",
            "epoch: 69 train accuracy: 0.6471568536260193 val accuracy: 0.6463035300925926\n",
            "epoch: 70 train accuracy: 0.631166093076613 val accuracy: 0.6277126736111112\n",
            "epoch: 71 train accuracy: 0.6216553498899328 val accuracy: 0.6160662615740741\n",
            "epoch: 72 train accuracy: 0.6286159427030044 val accuracy: 0.6276403356481481\n",
            "epoch: 73 train accuracy: 0.6428704306576133 val accuracy: 0.6414568865740741\n",
            "epoch: 74 train accuracy: 0.6400179828233032 val accuracy: 0.6383101851851852\n",
            "epoch: 75 train accuracy: 0.6354835209127833 val accuracy: 0.6363570601851852\n",
            "epoch: 76 train accuracy: 0.6329178681052925 val accuracy: 0.6331741898148148\n",
            "epoch: 77 train accuracy: 0.6422658357362105 val accuracy: 0.6428313078703703\n",
            "epoch: 78 train accuracy: 0.6381886956252132 val accuracy: 0.6365017361111112\n",
            "epoch: 79 train accuracy: 0.638948314885437 val accuracy: 0.6370442708333334\n",
            "epoch: 80 train accuracy: 0.6417465042011595 val accuracy: 0.6375144675925926\n",
            "epoch: 81 train accuracy: 0.6416379871639848 val accuracy: 0.640625\n",
            "epoch: 82 train accuracy: 0.6369174960468793 val accuracy: 0.6345486111111112\n",
            "epoch: 83 train accuracy: 0.6377623786934549 val accuracy: 0.6334273726851852\n",
            "epoch: 84 train accuracy: 0.6355222769974886 val accuracy: 0.6326316550925926\n",
            "epoch: 85 train accuracy: 0.6422580845192696 val accuracy: 0.6409866898148148\n",
            "epoch: 86 train accuracy: 0.6441028741512418 val accuracy: 0.6434823495370371\n",
            "epoch: 87 train accuracy: 0.6363826620779462 val accuracy: 0.6361038773148148\n",
            "epoch: 88 train accuracy: 0.6426766502340867 val accuracy: 0.6395399305555556\n",
            "epoch: 89 train accuracy: 0.6368864911791151 val accuracy: 0.6308955439814815\n",
            "epoch: 90 train accuracy: 0.6449632592316994 val accuracy: 0.6421802662037037\n",
            "epoch: 91 train accuracy: 0.6436843084364245 val accuracy: 0.6410228587962963\n",
            "epoch: 92 train accuracy: 0.6365454376337085 val accuracy: 0.6342954282407407\n",
            "epoch: 93 train accuracy: 0.6411651629305801 val accuracy: 0.6393590856481481\n",
            "epoch: 94 train accuracy: 0.6399327194369516 val accuracy: 0.6381293402777778\n",
            "epoch: 95 train accuracy: 0.6426999038849099 val accuracy: 0.6406973379629629\n",
            "epoch: 96 train accuracy: 0.6437618206058351 val accuracy: 0.6418547453703703\n",
            "epoch: 97 train accuracy: 0.6419790407093914 val accuracy: 0.6402271412037037\n",
            "epoch: 98 train accuracy: 0.6409868849409357 val accuracy: 0.6397207754629629\n",
            "epoch: 99 train accuracy: 0.63699500821629 val accuracy: 0.6366102430555556\n",
            "epoch: 100 train accuracy: 0.6451570396552259 val accuracy: 0.6449652777777778\n",
            "epoch: 101 train accuracy: 0.6413356897032834 val accuracy: 0.6374421296296297\n",
            "epoch: 102 train accuracy: 0.6409481288562304 val accuracy: 0.6382016782407407\n",
            "epoch: 103 train accuracy: 0.6373205593278145 val accuracy: 0.6365017361111112\n",
            "epoch: 104 train accuracy: 0.6389018075837907 val accuracy: 0.6365017361111112\n",
            "epoch: 105 train accuracy: 0.6413201872694013 val accuracy: 0.638671875\n",
            "epoch: 106 train accuracy: 0.642327845471739 val accuracy: 0.6427951388888888\n",
            "epoch: 107 train accuracy: 0.643738566955012 val accuracy: 0.6413845486111112\n",
            "epoch: 108 train accuracy: 0.6415914798623383 val accuracy: 0.6366102430555556\n",
            "epoch: 109 train accuracy: 0.6397156853626019 val accuracy: 0.6372251157407407\n",
            "epoch: 110 train accuracy: 0.634010789693982 val accuracy: 0.6327763310185185\n",
            "epoch: 111 train accuracy: 0.6483505410349425 val accuracy: 0.6444950810185185\n",
            "epoch: 112 train accuracy: 0.6437850742566583 val accuracy: 0.6436631944444444\n",
            "epoch: 113 train accuracy: 0.6452112981738133 val accuracy: 0.6431929976851852\n",
            "epoch: 114 train accuracy: 0.6437773230397172 val accuracy: 0.6418547453703703\n",
            "epoch: 115 train accuracy: 0.6482187703469444 val accuracy: 0.6459056712962963\n",
            "epoch: 116 train accuracy: 0.6407776020835271 val accuracy: 0.6378761574074074\n",
            "epoch: 117 train accuracy: 0.6413279384863424 val accuracy: 0.6378038194444444\n",
            "epoch: 118 train accuracy: 0.6455756053700431 val accuracy: 0.6439163773148148\n",
            "epoch: 119 train accuracy: 0.6478389607168326 val accuracy: 0.6458695023148148\n",
            "epoch: 120 train accuracy: 0.6443664155272377 val accuracy: 0.6427951388888888\n",
            "epoch: 121 train accuracy: 0.6449632592316994 val accuracy: 0.6435908564814815\n",
            "epoch: 122 train accuracy: 0.6480637460081232 val accuracy: 0.6458333333333334\n",
            "epoch: 123 train accuracy: 0.6502185843177379 val accuracy: 0.6482566550925926\n",
            "epoch: 124 train accuracy: 0.6526912225219359 val accuracy: 0.6494140625\n",
            "epoch: 125 train accuracy: 0.6427929184882026 val accuracy: 0.6436631944444444\n",
            "epoch: 126 train accuracy: 0.6506293988156141 val accuracy: 0.6470630787037037\n",
            "epoch: 127 train accuracy: 0.6449632592316994 val accuracy: 0.6418547453703703\n",
            "epoch: 128 train accuracy: 0.6512960034725452 val accuracy: 0.6468460648148148\n",
            "epoch: 129 train accuracy: 0.6455446005022789 val accuracy: 0.6435908564814815\n",
            "epoch: 130 train accuracy: 0.6452190493907544 val accuracy: 0.6420717592592593\n",
            "epoch: 131 train accuracy: 0.648024989923418 val accuracy: 0.6441333912037037\n",
            "epoch: 132 train accuracy: 0.6431262208166683 val accuracy: 0.6386357060185185\n",
            "epoch: 133 train accuracy: 0.6450950299196974 val accuracy: 0.6423611111111112\n",
            "epoch: 134 train accuracy: 0.6517765789228909 val accuracy: 0.6497395833333334\n",
            "epoch: 135 train accuracy: 0.6512805010386631 val accuracy: 0.6498480902777778\n",
            "epoch: 136 train accuracy: 0.6455446005022789 val accuracy: 0.6412760416666666\n",
            "epoch: 137 train accuracy: 0.656078504325179 val accuracy: 0.6546223958333334\n",
            "epoch: 138 train accuracy: 0.6470715902396676 val accuracy: 0.6415292245370371\n",
            "epoch: 139 train accuracy: 0.6465677611384988 val accuracy: 0.6452907986111112\n",
            "epoch: 140 train accuracy: 0.646079434471212 val accuracy: 0.640625\n",
            "epoch: 141 train accuracy: 0.6513890180758379 val accuracy: 0.650390625\n",
            "epoch: 142 train accuracy: 0.6430099525625523 val accuracy: 0.6416015625\n",
            "epoch: 143 train accuracy: 0.651784330139832 val accuracy: 0.6482566550925926\n",
            "epoch: 144 train accuracy: 0.6457151272749821 val accuracy: 0.6454354745370371\n",
            "epoch: 145 train accuracy: 0.6413821970049298 val accuracy: 0.6392867476851852\n",
            "epoch: 146 train accuracy: 0.650613896381732 val accuracy: 0.6466652199074074\n",
            "epoch: 147 train accuracy: 0.6455446005022789 val accuracy: 0.6434461805555556\n",
            "epoch: 148 train accuracy: 0.6463352246302669 val accuracy: 0.6400101273148148\n",
            "epoch: 149 train accuracy: 0.6510324620965492 val accuracy: 0.6489438657407407\n",
            "epoch: 150 train accuracy: 0.6467847952128484 val accuracy: 0.6439525462962963\n",
            "epoch: 151 train accuracy: 0.6509859547949028 val accuracy: 0.6488353587962963\n",
            "epoch: 152 train accuracy: 0.6497612625182153 val accuracy: 0.6470630787037037\n",
            "epoch: 153 train accuracy: 0.6497922673859796 val accuracy: 0.6453631365740741\n",
            "epoch: 154 train accuracy: 0.6398086999658946 val accuracy: 0.6351273148148148\n",
            "epoch: 155 train accuracy: 0.6493737016711624 val accuracy: 0.6483651620370371\n",
            "epoch: 156 train accuracy: 0.6524819396645273 val accuracy: 0.6494140625\n",
            "epoch: 157 train accuracy: 0.6500093014603293 val accuracy: 0.6476779513888888\n",
            "epoch: 158 train accuracy: 0.6436300499178371 val accuracy: 0.6396122685185185\n",
            "epoch: 159 train accuracy: 0.6488931262208166 val accuracy: 0.6466652199074074\n",
            "epoch: 160 train accuracy: 0.6525206957492327 val accuracy: 0.6509693287037037\n",
            "epoch: 161 train accuracy: 0.6487381018819954 val accuracy: 0.6472439236111112\n",
            "epoch: 162 train accuracy: 0.6497845161690385 val accuracy: 0.6472077546296297\n",
            "epoch: 163 train accuracy: 0.6484668092890584 val accuracy: 0.6428674768518519\n",
            "epoch: 164 train accuracy: 0.647249868229312 val accuracy: 0.6451461226851852\n",
            "epoch: 165 train accuracy: 0.6443431618764146 val accuracy: 0.6404079861111112\n",
            "epoch: 166 train accuracy: 0.6499550429417419 val accuracy: 0.6466652199074074\n",
            "epoch: 167 train accuracy: 0.6501720770160915 val accuracy: 0.6480396412037037\n",
            "epoch: 168 train accuracy: 0.652303661674883 val accuracy: 0.6499927662037037\n",
            "epoch: 169 train accuracy: 0.6490093944749326 val accuracy: 0.6475332754629629\n",
            "epoch: 170 train accuracy: 0.6495442284438657 val accuracy: 0.6480034722222222\n",
            "epoch: 171 train accuracy: 0.6476451802933061 val accuracy: 0.6453269675925926\n",
            "epoch: 172 train accuracy: 0.6499240380739776 val accuracy: 0.6470269097222222\n",
            "epoch: 173 train accuracy: 0.649978296592565 val accuracy: 0.6491608796296297\n",
            "epoch: 174 train accuracy: 0.6490481505596378 val accuracy: 0.6491970486111112\n",
            "epoch: 175 train accuracy: 0.6472111121446067 val accuracy: 0.6444950810185185\n",
            "epoch: 176 train accuracy: 0.645304312777106 val accuracy: 0.6420717592592593\n",
            "epoch: 177 train accuracy: 0.6515130375468948 val accuracy: 0.6481119791666666\n",
            "epoch: 178 train accuracy: 0.6488853750038756 val accuracy: 0.6495949074074074\n",
            "epoch: 179 train accuracy: 0.6439556010293616 val accuracy: 0.642578125\n",
            "epoch: 180 train accuracy: 0.6457926394443928 val accuracy: 0.6425057870370371\n",
            "epoch: 181 train accuracy: 0.638808792980498 val accuracy: 0.6351996527777778\n",
            "epoch: 182 train accuracy: 0.6410876507611695 val accuracy: 0.6374421296296297\n",
            "epoch: 183 train accuracy: 0.6501953306669147 val accuracy: 0.6495949074074074\n",
            "epoch: 184 train accuracy: 0.6557607044305956 val accuracy: 0.6534288194444444\n",
            "epoch: 185 train accuracy: 0.6491644188137538 val accuracy: 0.6484736689814815\n",
            "epoch: 186 train accuracy: 0.6533190710941618 val accuracy: 0.6499565972222222\n",
            "epoch: 187 train accuracy: 0.6490869066443432 val accuracy: 0.6454716435185185\n",
            "epoch: 188 train accuracy: 0.649458965057514 val accuracy: 0.6476056134259259\n",
            "epoch: 189 train accuracy: 0.6490481505596378 val accuracy: 0.6454354745370371\n",
            "epoch: 190 train accuracy: 0.646994078070257 val accuracy: 0.6443504050925926\n",
            "epoch: 191 train accuracy: 0.6467925464297895 val accuracy: 0.6447844328703703\n",
            "epoch: 192 train accuracy: 0.6529857687656963 val accuracy: 0.6511863425925926\n",
            "epoch: 193 train accuracy: 0.6458856540476855 val accuracy: 0.6426504629629629\n",
            "epoch: 194 train accuracy: 0.6513890180758379 val accuracy: 0.6497395833333334\n",
            "epoch: 195 train accuracy: 0.650613896381732 val accuracy: 0.6468460648148148\n",
            "epoch: 196 train accuracy: 0.6465600099215577 val accuracy: 0.6441695601851852\n",
            "epoch: 197 train accuracy: 0.6496915015657458 val accuracy: 0.6459780092592593\n",
            "epoch: 198 train accuracy: 0.6490016432579915 val accuracy: 0.6472800925925926\n",
            "epoch: 199 train accuracy: 0.6479629801878894 val accuracy: 0.6474247685185185\n",
            "epoch: 200 train accuracy: 0.6494124577558676 val accuracy: 0.6467737268518519\n",
            "epoch: 201 train accuracy: 0.6531950516231049 val accuracy: 0.6528501157407407\n",
            "epoch: 202 train accuracy: 0.6471956097107245 val accuracy: 0.6459780092592593\n",
            "epoch: 203 train accuracy: 0.649846525904567 val accuracy: 0.6459056712962963\n",
            "epoch: 204 train accuracy: 0.6508386816730226 val accuracy: 0.6495949074074074\n",
            "epoch: 205 train accuracy: 0.6513270083403094 val accuracy: 0.6483651620370371\n",
            "epoch: 206 train accuracy: 0.643738566955012 val accuracy: 0.6412398726851852\n",
            "epoch: 207 train accuracy: 0.648939633522463 val accuracy: 0.6481843171296297\n",
            "epoch: 208 train accuracy: 0.6469243171177875 val accuracy: 0.6422526041666666\n",
            "epoch: 209 train accuracy: 0.6517998325737141 val accuracy: 0.6496672453703703\n",
            "epoch: 210 train accuracy: 0.6425448795460887 val accuracy: 0.6397569444444444\n",
            "epoch: 211 train accuracy: 0.6512805010386631 val accuracy: 0.6508246527777778\n",
            "epoch: 212 train accuracy: 0.6445059374321769 val accuracy: 0.6439525462962963\n",
            "epoch: 213 train accuracy: 0.6470483365888444 val accuracy: 0.6453631365740741\n",
            "epoch: 214 train accuracy: 0.6466142684401451 val accuracy: 0.6450376157407407\n",
            "epoch: 215 train accuracy: 0.6450407714011099 val accuracy: 0.6431568287037037\n",
            "epoch: 216 train accuracy: 0.6524354323628809 val accuracy: 0.6487991898148148\n",
            "epoch: 217 train accuracy: 0.6288872352959415 val accuracy: 0.6259765625\n",
            "epoch: 218 train accuracy: 0.6477924534151862 val accuracy: 0.6467013888888888\n",
            "epoch: 219 train accuracy: 0.6495907357455121 val accuracy: 0.6467375578703703\n",
            "epoch: 220 train accuracy: 0.6495287260099836 val accuracy: 0.6473524305555556\n",
            "epoch: 221 train accuracy: 0.6530400272842837 val accuracy: 0.6496672453703703\n",
            "epoch: 222 train accuracy: 0.6431494744674914 val accuracy: 0.6414568865740741\n",
            "epoch: 223 train accuracy: 0.6514277741605432 val accuracy: 0.6500289351851852\n",
            "epoch: 224 train accuracy: 0.6525982079186432 val accuracy: 0.6483651620370371\n",
            "epoch: 225 train accuracy: 0.6514975351130128 val accuracy: 0.6461950231481481\n",
            "epoch: 226 train accuracy: 0.639855207267541 val accuracy: 0.6354890046296297\n",
            "epoch: 227 train accuracy: 0.6432037329860788 val accuracy: 0.6403718171296297\n",
            "epoch: 228 train accuracy: 0.644529191083 val accuracy: 0.6419994212962963\n",
            "epoch: 229 train accuracy: 0.6500015502433882 val accuracy: 0.6470269097222222\n",
            "epoch: 230 train accuracy: 0.6551871143769572 val accuracy: 0.6537181712962963\n",
            "epoch: 231 train accuracy: 0.6511642327845472 val accuracy: 0.6456524884259259\n",
            "epoch: 232 train accuracy: 0.6474824047375438 val accuracy: 0.6456886574074074\n",
            "epoch: 233 train accuracy: 0.6472188633615478 val accuracy: 0.6452546296296297\n",
            "epoch: 234 train accuracy: 0.650241837968561 val accuracy: 0.6485821759259259\n",
            "epoch: 235 train accuracy: 0.6520013642141816 val accuracy: 0.6505353009259259\n",
            "epoch: 236 train accuracy: 0.6479474777540074 val accuracy: 0.6452907986111112\n",
            "epoch: 237 train accuracy: 0.6468933122500232 val accuracy: 0.6443504050925926\n",
            "epoch: 238 train accuracy: 0.6505518866462034 val accuracy: 0.6480034722222222\n",
            "epoch: 239 train accuracy: 0.652830744426875 val accuracy: 0.6509331597222222\n",
            "epoch: 240 train accuracy: 0.6479242241031842 val accuracy: 0.6448206018518519\n",
            "epoch: 241 train accuracy: 0.6526214615694664 val accuracy: 0.6510416666666666\n",
            "epoch: 242 train accuracy: 0.647513409605308 val accuracy: 0.6457971643518519\n",
            "epoch: 243 train accuracy: 0.6485133165907048 val accuracy: 0.6471715856481481\n",
            "epoch: 244 train accuracy: 0.6551793631600161 val accuracy: 0.6531756365740741\n",
            "epoch: 245 train accuracy: 0.6440176107648901 val accuracy: 0.6411675347222222\n",
            "epoch: 246 train accuracy: 0.6540399342696803 val accuracy: 0.6530309606481481\n",
            "epoch: 247 train accuracy: 0.6468235512975538 val accuracy: 0.6443504050925926\n",
            "epoch: 248 train accuracy: 0.6512805010386631 val accuracy: 0.6484736689814815\n",
            "epoch: 249 train accuracy: 0.6535206027346293 val accuracy: 0.6505714699074074\n",
            "epoch: 250 train accuracy: 0.646342975847208 val accuracy: 0.6446035879629629\n",
            "epoch: 251 train accuracy: 0.6472188633615478 val accuracy: 0.6458695023148148\n",
            "epoch: 252 train accuracy: 0.646738287911202 val accuracy: 0.6433376736111112\n",
            "epoch: 253 train accuracy: 0.6535206027346293 val accuracy: 0.6505714699074074\n",
            "epoch: 254 train accuracy: 0.6451570396552259 val accuracy: 0.6410590277777778\n",
            "epoch: 255 train accuracy: 0.6534275881313366 val accuracy: 0.6500289351851852\n",
            "epoch: 256 train accuracy: 0.6332511704337581 val accuracy: 0.630859375\n",
            "epoch: 257 train accuracy: 0.6428006697051437 val accuracy: 0.6401909722222222\n",
            "epoch: 258 train accuracy: 0.649846525904567 val accuracy: 0.6459056712962963\n",
            "epoch: 259 train accuracy: 0.6507456670697299 val accuracy: 0.6482566550925926\n",
            "epoch: 260 train accuracy: 0.6531795491892227 val accuracy: 0.6530671296296297\n",
            "epoch: 261 train accuracy: 0.6438858400768921 val accuracy: 0.6418185763888888\n",
            "epoch: 262 train accuracy: 0.6468468049483769 val accuracy: 0.6440610532407407\n",
            "epoch: 263 train accuracy: 0.6500868136297399 val accuracy: 0.6475332754629629\n",
            "epoch: 264 train accuracy: 0.6424363625089139 val accuracy: 0.6400462962962963\n",
            "epoch: 265 train accuracy: 0.6466530245248504 val accuracy: 0.6448567708333334\n",
            "epoch: 266 train accuracy: 0.6499085356400955 val accuracy: 0.6494140625\n",
            "epoch: 267 train accuracy: 0.6522804080240597 val accuracy: 0.6485460069444444\n",
            "epoch: 268 train accuracy: 0.6368244814435866 val accuracy: 0.6342230902777778\n",
            "epoch: 269 train accuracy: 0.6419945431432735 val accuracy: 0.6404441550925926\n",
            "epoch: 270 train accuracy: 0.6518385886584194 val accuracy: 0.6489800347222222\n",
            "epoch: 271 train accuracy: 0.6447384739404086 val accuracy: 0.6427589699074074\n",
            "epoch: 272 train accuracy: 0.647118097541314 val accuracy: 0.6447844328703703\n",
            "epoch: 273 train accuracy: 0.6508464328899637 val accuracy: 0.6480034722222222\n",
            "epoch: 274 train accuracy: 0.6542802219948531 val accuracy: 0.6495587384259259\n",
            "epoch: 275 train accuracy: 0.6522959104579419 val accuracy: 0.6496310763888888\n",
            "epoch: 276 train accuracy: 0.6515983009332466 val accuracy: 0.6517650462962963\n",
            "epoch: 277 train accuracy: 0.6474203950020153 val accuracy: 0.6454354745370371\n",
            "epoch: 278 train accuracy: 0.6490171456918736 val accuracy: 0.6463758680555556\n",
            "epoch: 279 train accuracy: 0.6473273803987226 val accuracy: 0.6436270254629629\n",
            "epoch: 280 train accuracy: 0.6489241310885809 val accuracy: 0.6456163194444444\n",
            "epoch: 281 train accuracy: 0.6500558087619757 val accuracy: 0.6471354166666666\n",
            "epoch: 282 train accuracy: 0.6482420239977676 val accuracy: 0.6426504629629629\n",
            "epoch: 283 train accuracy: 0.6551483582922519 val accuracy: 0.6537543402777778\n",
            "epoch: 284 train accuracy: 0.6576442501472731 val accuracy: 0.6554904513888888\n",
            "epoch: 285 train accuracy: 0.6427231575357331 val accuracy: 0.6401186342592593\n",
            "epoch: 286 train accuracy: 0.6582643475025579 val accuracy: 0.6545862268518519\n",
            "epoch: 287 train accuracy: 0.6504278671751464 val accuracy: 0.6464482060185185\n",
            "epoch: 288 train accuracy: 0.6555281679223638 val accuracy: 0.6515842013888888\n",
            "epoch: 289 train accuracy: 0.6523346665426472 val accuracy: 0.6490523726851852\n",
            "epoch: 290 train accuracy: 0.6576985086658605 val accuracy: 0.6569372106481481\n",
            "epoch: 291 train accuracy: 0.6482110191300035 val accuracy: 0.6447482638888888\n",
            "epoch: 292 train accuracy: 0.6524199299289989 val accuracy: 0.6486183449074074\n",
            "epoch: 293 train accuracy: 0.6514355253774843 val accuracy: 0.6469184027777778\n",
            "epoch: 294 train accuracy: 0.6513890180758379 val accuracy: 0.6514033564814815\n",
            "epoch: 295 train accuracy: 0.652047871515828 val accuracy: 0.6483651620370371\n",
            "epoch: 296 train accuracy: 0.652179642203826 val accuracy: 0.6501736111111112\n",
            "epoch: 297 train accuracy: 0.6557684556475366 val accuracy: 0.6484013310185185\n",
            "epoch: 298 train accuracy: 0.6534430905652188 val accuracy: 0.6499927662037037\n",
            "epoch: 299 train accuracy: 0.6511642327845472 val accuracy: 0.6475332754629629\n",
            "epoch: 300 train accuracy: 0.646218956376151 val accuracy: 0.6417824074074074\n",
            "epoch: 301 train accuracy: 0.6529935199826373 val accuracy: 0.6491608796296297\n",
            "epoch: 302 train accuracy: 0.6577450159675069 val accuracy: 0.6539713541666666\n",
            "epoch: 303 train accuracy: 0.6482497752147087 val accuracy: 0.6465928819444444\n",
            "epoch: 304 train accuracy: 0.6459321613493318 val accuracy: 0.6423611111111112\n",
            "epoch: 305 train accuracy: 0.6484358044212941 val accuracy: 0.6446397569444444\n",
            "epoch: 306 train accuracy: 0.6464282392335596 val accuracy: 0.642578125\n",
            "epoch: 307 train accuracy: 0.6560862555421201 val accuracy: 0.6547309027777778\n",
            "epoch: 308 train accuracy: 0.6497612625182153 val accuracy: 0.6487268518518519\n",
            "epoch: 309 train accuracy: 0.654512758503085 val accuracy: 0.6525969328703703\n",
            "epoch: 310 train accuracy: 0.6541639537407373 val accuracy: 0.6512586805555556\n",
            "epoch: 311 train accuracy: 0.6512960034725452 val accuracy: 0.650390625\n",
            "epoch: 312 train accuracy: 0.6514432765944254 val accuracy: 0.6476056134259259\n",
            "epoch: 313 train accuracy: 0.6518308374414783 val accuracy: 0.6495225694444444\n",
            "epoch: 314 train accuracy: 0.6496837503488048 val accuracy: 0.6472439236111112\n",
            "epoch: 315 train accuracy: 0.6518230862245372 val accuracy: 0.6470269097222222\n",
            "epoch: 316 train accuracy: 0.6481722630452981 val accuracy: 0.6465567129629629\n",
            "epoch: 317 train accuracy: 0.6621399559730877 val accuracy: 0.6589988425925926\n",
            "epoch: 318 train accuracy: 0.6498542771215081 val accuracy: 0.6481843171296297\n",
            "epoch: 319 train accuracy: 0.6511099742659597 val accuracy: 0.6497034143518519\n",
            "epoch: 320 train accuracy: 0.6506371500325551 val accuracy: 0.6469184027777778\n",
            "epoch: 321 train accuracy: 0.6495364772269246 val accuracy: 0.6452907986111112\n",
            "epoch: 322 train accuracy: 0.6485830775431742 val accuracy: 0.6433738425925926\n",
            "epoch: 323 train accuracy: 0.6428936843084364 val accuracy: 0.6395399305555556\n",
            "epoch: 324 train accuracy: 0.648428053204353 val accuracy: 0.6455439814814815\n",
            "epoch: 325 train accuracy: 0.6475909217747187 val accuracy: 0.6443142361111112\n",
            "epoch: 326 train accuracy: 0.6492961895017518 val accuracy: 0.6466290509259259\n",
            "epoch: 327 train accuracy: 0.6504433696090286 val accuracy: 0.6467375578703703\n",
            "epoch: 328 train accuracy: 0.6542182122593247 val accuracy: 0.6516565393518519\n",
            "epoch: 329 train accuracy: 0.6488156140514061 val accuracy: 0.6461950231481481\n",
            "epoch: 330 train accuracy: 0.6505208817784393 val accuracy: 0.6451822916666666\n",
            "epoch: 331 train accuracy: 0.656721855331287 val accuracy: 0.6550925925925926\n",
            "epoch: 332 train accuracy: 0.6565435773416426 val accuracy: 0.6545138888888888\n",
            "epoch: 333 train accuracy: 0.6544197438997923 val accuracy: 0.654296875\n",
            "epoch: 334 train accuracy: 0.6521021300344154 val accuracy: 0.6507523148148148\n",
            "epoch: 335 train accuracy: 0.6562800359656467 val accuracy: 0.6549840856481481\n",
            "epoch: 336 train accuracy: 0.6472808730970763 val accuracy: 0.6434100115740741\n",
            "epoch: 337 train accuracy: 0.6593572690912474 val accuracy: 0.6563585069444444\n",
            "epoch: 338 train accuracy: 0.6487458530989365 val accuracy: 0.6463758680555556\n",
            "epoch: 339 train accuracy: 0.6546212755402598 val accuracy: 0.6521629050925926\n",
            "epoch: 340 train accuracy: 0.654373236598146 val accuracy: 0.6541883680555556\n",
            "epoch: 341 train accuracy: 0.6560009921557685 val accuracy: 0.6537905092592593\n",
            "epoch: 342 train accuracy: 0.6525051933153505 val accuracy: 0.6481843171296297\n",
            "epoch: 343 train accuracy: 0.6426146404985583 val accuracy: 0.6410951967592593\n",
            "epoch: 344 train accuracy: 0.6547607974451989 val accuracy: 0.6497034143518519\n",
            "epoch: 345 train accuracy: 0.6432579915046662 val accuracy: 0.6410228587962963\n",
            "epoch: 346 train accuracy: 0.6559002263355347 val accuracy: 0.6529224537037037\n",
            "epoch: 347 train accuracy: 0.6492419309831644 val accuracy: 0.6472800925925926\n",
            "epoch: 348 train accuracy: 0.6556366849595386 val accuracy: 0.6549840856481481\n",
            "epoch: 349 train accuracy: 0.6509316962763154 val accuracy: 0.6469184027777778\n",
            "epoch: 350 train accuracy: 0.6448857470622887 val accuracy: 0.6413483796296297\n",
            "epoch: 351 train accuracy: 0.6670697299476017 val accuracy: 0.6640986689814815\n",
            "epoch: 352 train accuracy: 0.6642095308963507 val accuracy: 0.6625795717592593\n",
            "epoch: 353 train accuracy: 0.6546910364927293 val accuracy: 0.6536096643518519\n",
            "epoch: 354 train accuracy: 0.6521951446377081 val accuracy: 0.6498119212962963\n",
            "epoch: 355 train accuracy: 0.6577837720522122 val accuracy: 0.6557436342592593\n",
            "epoch: 356 train accuracy: 0.6520633739497101 val accuracy: 0.6479673032407407\n",
            "epoch: 357 train accuracy: 0.6583186060211453 val accuracy: 0.6571180555555556\n",
            "epoch: 358 train accuracy: 0.6487381018819954 val accuracy: 0.6467375578703703\n",
            "epoch: 359 train accuracy: 0.665147428146219 val accuracy: 0.6610243055555556\n",
            "epoch: 360 train accuracy: 0.6497767649520975 val accuracy: 0.6470630787037037\n",
            "epoch: 361 train accuracy: 0.6557839580814188 val accuracy: 0.6511863425925926\n",
            "epoch: 362 train accuracy: 0.6597370787213592 val accuracy: 0.6571542245370371\n",
            "epoch: 363 train accuracy: 0.6515440424146591 val accuracy: 0.6487630208333334\n",
            "epoch: 364 train accuracy: 0.6434362694943107 val accuracy: 0.6393229166666666\n",
            "epoch: 365 train accuracy: 0.6673177688897157 val accuracy: 0.6654007523148148\n",
            "epoch: 366 train accuracy: 0.6571559234799863 val accuracy: 0.6554542824074074\n",
            "epoch: 367 train accuracy: 0.6488156140514061 val accuracy: 0.6486183449074074\n",
            "epoch: 368 train accuracy: 0.6569466406225778 val accuracy: 0.6546223958333334\n",
            "epoch: 369 train accuracy: 0.6530710321520479 val accuracy: 0.6483651620370371\n",
            "epoch: 370 train accuracy: 0.6545747682386135 val accuracy: 0.6539351851851852\n",
            "epoch: 371 train accuracy: 0.6537996465445075 val accuracy: 0.6513310185185185\n",
            "epoch: 372 train accuracy: 0.6564040554367035 val accuracy: 0.6517288773148148\n",
            "epoch: 373 train accuracy: 0.6488156140514061 val accuracy: 0.6470992476851852\n",
            "epoch: 374 train accuracy: 0.6570086503581062 val accuracy: 0.6553096064814815\n",
            "epoch: 375 train accuracy: 0.6589774594611354 val accuracy: 0.6579861111111112\n",
            "epoch: 376 train accuracy: 0.6627678045453136 val accuracy: 0.6604094328703703\n",
            "epoch: 377 train accuracy: 0.6604269370291136 val accuracy: 0.658203125\n",
            "epoch: 378 train accuracy: 0.6664263789414938 val accuracy: 0.6627604166666666\n",
            "epoch: 379 train accuracy: 0.6497612625182153 val accuracy: 0.6458695023148148\n",
            "epoch: 380 train accuracy: 0.6581170743806778 val accuracy: 0.6547670717592593\n",
            "epoch: 381 train accuracy: 0.6564970700399962 val accuracy: 0.6521629050925926\n",
            "epoch: 382 train accuracy: 0.6516913155365393 val accuracy: 0.6486906828703703\n",
            "epoch: 383 train accuracy: 0.656342045701175 val accuracy: 0.6520905671296297\n",
            "epoch: 384 train accuracy: 0.651792081356773 val accuracy: 0.6490523726851852\n",
            "epoch: 385 train accuracy: 0.6643102967165845 val accuracy: 0.6630135995370371\n",
            "epoch: 386 train accuracy: 0.6444051716119431 val accuracy: 0.6397207754629629\n",
            "epoch: 387 train accuracy: 0.6599541127957089 val accuracy: 0.6584924768518519\n",
            "epoch: 388 train accuracy: 0.6427851672712616 val accuracy: 0.6365017361111112\n",
            "epoch: 389 train accuracy: 0.6489086286546988 val accuracy: 0.6468098958333334\n",
            "epoch: 390 train accuracy: 0.6492574334170464 val accuracy: 0.6456524884259259\n",
            "epoch: 391 train accuracy: 0.6663953740737296 val accuracy: 0.6648582175925926\n",
            "epoch: 392 train accuracy: 0.653218305273928 val accuracy: 0.6501374421296297\n",
            "epoch: 393 train accuracy: 0.6471491024090782 val accuracy: 0.6432653356481481\n",
            "epoch: 394 train accuracy: 0.6570861625275168 val accuracy: 0.6521267361111112\n",
            "epoch: 395 train accuracy: 0.6620159365020308 val accuracy: 0.6610243055555556\n",
            "epoch: 396 train accuracy: 0.6568071187176386 val accuracy: 0.6562138310185185\n",
            "epoch: 397 train accuracy: 0.6635506774563606 val accuracy: 0.6609519675925926\n",
            "epoch: 398 train accuracy: 0.6626360338573156 val accuracy: 0.6601924189814815\n",
            "epoch: 399 train accuracy: 0.659186742318544 val accuracy: 0.6561414930555556\n",
            "epoch: 400 train accuracy: 0.6680851393668806 val accuracy: 0.6660517939814815\n",
            "epoch: 401 train accuracy: 0.6615508634855672 val accuracy: 0.6596860532407407\n",
            "epoch: 402 train accuracy: 0.6571946795646917 val accuracy: 0.6540798611111112\n",
            "epoch: 403 train accuracy: 0.6525361981831147 val accuracy: 0.6480396412037037\n",
            "epoch: 404 train accuracy: 0.6520556227327691 val accuracy: 0.6487268518518519\n",
            "epoch: 405 train accuracy: 0.651140979133724 val accuracy: 0.6463396990740741\n",
            "epoch: 406 train accuracy: 0.6547607974451989 val accuracy: 0.6516565393518519\n",
            "epoch: 407 train accuracy: 0.6610935416860447 val accuracy: 0.6573712384259259\n",
            "epoch: 408 train accuracy: 0.6600238737481785 val accuracy: 0.6573350694444444\n",
            "epoch: 409 train accuracy: 0.6563963042197625 val accuracy: 0.6538990162037037\n",
            "epoch: 410 train accuracy: 0.6503038477040896 val accuracy: 0.646484375\n",
            "epoch: 411 train accuracy: 0.655032090038136 val accuracy: 0.6515118634259259\n",
            "epoch: 412 train accuracy: 0.657233435649397 val accuracy: 0.6553457754629629\n",
            "epoch: 413 train accuracy: 0.6501720770160915 val accuracy: 0.6460865162037037\n",
            "epoch: 414 train accuracy: 0.6557607044305956 val accuracy: 0.6523075810185185\n",
            "epoch: 415 train accuracy: 0.6562877871825876 val accuracy: 0.6537181712962963\n",
            "epoch: 416 train accuracy: 0.6545205097200261 val accuracy: 0.6534649884259259\n",
            "epoch: 417 train accuracy: 0.655946733637181 val accuracy: 0.6534288194444444\n",
            "epoch: 418 train accuracy: 0.6545515145877903 val accuracy: 0.6519458912037037\n",
            "epoch: 419 train accuracy: 0.6520091154311227 val accuracy: 0.6467375578703703\n",
            "epoch: 420 train accuracy: 0.6545902706724955 val accuracy: 0.6537181712962963\n",
            "epoch: 421 train accuracy: 0.6437928254735994 val accuracy: 0.6412398726851852\n",
            "epoch: 422 train accuracy: 0.6548150559637863 val accuracy: 0.6520543981481481\n",
            "epoch: 423 train accuracy: 0.6603881809444083 val accuracy: 0.6559606481481481\n",
            "epoch: 424 train accuracy: 0.6549235730009612 val accuracy: 0.6525607638888888\n",
            "epoch: 425 train accuracy: 0.6482110191300035 val accuracy: 0.6447120949074074\n",
            "epoch: 426 train accuracy: 0.6581790841162063 val accuracy: 0.6559968171296297\n",
            "epoch: 427 train accuracy: 0.6658992961895017 val accuracy: 0.6612051504629629\n",
            "epoch: 428 train accuracy: 0.6525284469661737 val accuracy: 0.6499927662037037\n",
            "epoch: 429 train accuracy: 0.6597448299383003 val accuracy: 0.6559606481481481\n",
            "epoch: 430 train accuracy: 0.6587449229529037 val accuracy: 0.6562861689814815\n",
            "epoch: 431 train accuracy: 0.6498775307723312 val accuracy: 0.6493417245370371\n",
            "epoch: 432 train accuracy: 0.6619616779834434 val accuracy: 0.6605541087962963\n",
            "epoch: 433 train accuracy: 0.6572566893002202 val accuracy: 0.6528139467592593\n",
            "epoch: 434 train accuracy: 0.6538849099308591 val accuracy: 0.6500289351851852\n",
            "epoch: 435 train accuracy: 0.6506836573342014 val accuracy: 0.6470630787037037\n",
            "epoch: 436 train accuracy: 0.6551483582922519 val accuracy: 0.6510054976851852\n",
            "epoch: 437 train accuracy: 0.6505983939478498 val accuracy: 0.6472800925925926\n",
            "epoch: 438 train accuracy: 0.6482187703469444 val accuracy: 0.6461588541666666\n",
            "epoch: 439 train accuracy: 0.6512572473878399 val accuracy: 0.6480034722222222\n",
            "epoch: 440 train accuracy: 0.6494357114066909 val accuracy: 0.6438802083333334\n",
            "epoch: 441 train accuracy: 0.6565435773416426 val accuracy: 0.6510778356481481\n",
            "epoch: 442 train accuracy: 0.6510247108796081 val accuracy: 0.6475694444444444\n",
            "epoch: 443 train accuracy: 0.6558847239016525 val accuracy: 0.6534649884259259\n",
            "epoch: 444 train accuracy: 0.6538073977614486 val accuracy: 0.6495587384259259\n",
            "epoch: 445 train accuracy: 0.6465910147893219 val accuracy: 0.6447844328703703\n",
            "epoch: 446 train accuracy: 0.6551793631600161 val accuracy: 0.6528862847222222\n",
            "epoch: 447 train accuracy: 0.6598921030601804 val accuracy: 0.6585648148148148\n",
            "epoch: 448 train accuracy: 0.6538384026292128 val accuracy: 0.6518373842592593\n",
            "epoch: 449 train accuracy: 0.6547918023129632 val accuracy: 0.6521629050925926\n",
            "epoch: 450 train accuracy: 0.6531950516231049 val accuracy: 0.6518735532407407\n",
            "epoch: 451 train accuracy: 0.6544507487675565 val accuracy: 0.6530309606481481\n",
            "epoch: 452 train accuracy: 0.6499162868570365 val accuracy: 0.6454716435185185\n",
            "epoch: 453 train accuracy: 0.646474746535206 val accuracy: 0.6440972222222222\n",
            "epoch: 454 train accuracy: 0.6537841441106254 val accuracy: 0.6506438078703703\n",
            "epoch: 455 train accuracy: 0.6594502836945401 val accuracy: 0.6579861111111112\n",
            "epoch: 456 train accuracy: 0.652187393420767 val accuracy: 0.6496310763888888\n",
            "epoch: 457 train accuracy: 0.6585976498310234 val accuracy: 0.6556712962962963\n",
            "epoch: 458 train accuracy: 0.6581635816823241 val accuracy: 0.6540798611111112\n",
            "epoch: 459 train accuracy: 0.6549235730009612 val accuracy: 0.65234375\n",
            "epoch: 460 train accuracy: 0.6536291197718042 val accuracy: 0.6505353009259259\n",
            "epoch: 461 train accuracy: 0.643219235419961 val accuracy: 0.6414207175925926\n",
            "epoch: 462 train accuracy: 0.6527299786066413 val accuracy: 0.6497034143518519\n",
            "epoch: 463 train accuracy: 0.6547530462282578 val accuracy: 0.6509693287037037\n",
            "epoch: 464 train accuracy: 0.6497767649520975 val accuracy: 0.6466290509259259\n",
            "epoch: 465 train accuracy: 0.6524896908814684 val accuracy: 0.6491247106481481\n",
            "epoch: 466 train accuracy: 0.6658915449725606 val accuracy: 0.6632306134259259\n",
            "epoch: 467 train accuracy: 0.6522339007224134 val accuracy: 0.6501012731481481\n",
            "epoch: 468 train accuracy: 0.6505828915139676 val accuracy: 0.6481481481481481\n",
            "epoch: 469 train accuracy: 0.6654729792577435 val accuracy: 0.6635199652777778\n",
            "epoch: 470 train accuracy: 0.6582798499364401 val accuracy: 0.6548755787037037\n",
            "epoch: 471 train accuracy: 0.6549700803026075 val accuracy: 0.6552734375\n",
            "epoch: 472 train accuracy: 0.6665891544972561 val accuracy: 0.6635923032407407\n",
            "epoch: 473 train accuracy: 0.6681393978854681 val accuracy: 0.6651475694444444\n",
            "epoch: 474 train accuracy: 0.6649924038073978 val accuracy: 0.6601924189814815\n",
            "epoch: 475 train accuracy: 0.6472188633615478 val accuracy: 0.6450014467592593\n",
            "epoch: 476 train accuracy: 0.6539391684494466 val accuracy: 0.6520905671296297\n",
            "epoch: 477 train accuracy: 0.6518618423092426 val accuracy: 0.6473524305555556\n",
            "epoch: 478 train accuracy: 0.6505286329953803 val accuracy: 0.6468098958333334\n",
            "epoch: 479 train accuracy: 0.6566598455957585 val accuracy: 0.6537543402777778\n",
            "epoch: 480 train accuracy: 0.6502573404024432 val accuracy: 0.6481481481481481\n",
            "epoch: 481 train accuracy: 0.6528772517285214 val accuracy: 0.6490162037037037\n",
            "epoch: 482 train accuracy: 0.6469010634669643 val accuracy: 0.6414207175925926\n",
            "epoch: 483 train accuracy: 0.6594735373453632 val accuracy: 0.6566478587962963\n",
            "epoch: 484 train accuracy: 0.6528617492946392 val accuracy: 0.6494864004629629\n",
            "epoch: 485 train accuracy: 0.6629770874027222 val accuracy: 0.6597945601851852\n",
            "epoch: 486 train accuracy: 0.6448082348928782 val accuracy: 0.6426504629629629\n",
            "epoch: 487 train accuracy: 0.6594502836945401 val accuracy: 0.6567201967592593\n",
            "epoch: 488 train accuracy: 0.6483815459027067 val accuracy: 0.64453125\n",
            "epoch: 489 train accuracy: 0.6513037546894862 val accuracy: 0.6474609375\n",
            "epoch: 490 train accuracy: 0.6569001333209313 val accuracy: 0.6531756365740741\n",
            "epoch: 491 train accuracy: 0.653078783368989 val accuracy: 0.6507161458333334\n",
            "epoch: 492 train accuracy: 0.6628840727994295 val accuracy: 0.6605902777777778\n",
            "epoch: 493 train accuracy: 0.6564118066536446 val accuracy: 0.6538990162037037\n",
            "epoch: 494 train accuracy: 0.656721855331287 val accuracy: 0.6556351273148148\n",
            "epoch: 495 train accuracy: 0.650489876910675 val accuracy: 0.6489800347222222\n",
            "epoch: 496 train accuracy: 0.6636359408427123 val accuracy: 0.6617115162037037\n",
            "epoch: 497 train accuracy: 0.6498000186029207 val accuracy: 0.6486545138888888\n",
            "epoch: 498 train accuracy: 0.6595200446470095 val accuracy: 0.6565393518518519\n",
            "epoch: 499 train accuracy: 0.650877437757728 val accuracy: 0.6482566550925926\n"
          ]
        },
        {
          "data": {
            "image/png": "[encoded data removed]",
            "text/plain": [
              "<Figure size 640x480 with 1 Axes>"
            ]
          },
          "metadata": {},
          "output_type": "display_data"
        },
        {
          "data": {
            "image/png": "[encoded data removed]",
            "text/plain": [
              "<Figure size 640x480 with 1 Axes>"
            ]
          },
          "metadata": {},
          "output_type": "display_data"
        },
        {
          "data": {
            "image/png": "[encoded data removed]",
            "text/plain": [
              "<Figure size 640x480 with 1 Axes>"
            ]
          },
          "metadata": {},
          "output_type": "display_data"
        }
      ],
      "source": [
        "train_loader = torch.utils.data.DataLoader(train_dataset, batch_size=100, shuffle=True)\n",
        "valid_loader = torch.utils.data.DataLoader(val_dataset, batch_size=100, shuffle=True)\n",
        "model = AutoEncoder()\n",
        "train(model, train_loader, valid_loader, num_epochs=500, learning_rate = 0.005)\n",
        " #Plotting\n",
        "plt.title(\"Training vs Validation Accuracy\")\n",
        "plt.plot(num_epochs, train_accuracy, label=\"Train\")\n",
        "plt.plot(num_epochs, val_accuracy, label=\"Val\")\n",
        "plt.xlabel(\"Epochs\")\n",
        "plt.ylabel(\"Accuracy\")\n",
        "plt.legend(loc='best')\n",
        "plt.show()\n",
        "\n",
        "plt.title(\"Training Loss\")\n",
        "plt.plot(num_epochs, train_loss, label=\"Train\")\n",
        "plt.xlabel(\"Epochs\")\n",
        "plt.ylabel(\"Train Loss\")\n",
        "plt.legend(loc='best')\n",
        "plt.show()\n",
        "\n",
        "plt.title(\"Validation Loss\")\n",
        "plt.plot(num_epochs, val_loss, label=\"Val\")\n",
        "plt.xlabel(\"Epochs\")\n",
        "plt.ylabel(\"Validation Loss\")\n",
        "plt.legend(loc='best')\n",
        "plt.show()"
      ]
    },
    {
      "cell_type": "markdown",
      "metadata": {
        "id": "ymCsZH291prI"
      },
      "source": [
        "## Part 4. Testing [12 pt]\n",
        "\n",
        "### Part (a) [2 pt]\n",
        "\n",
        "Compute and report the test accuracy."
      ]
    },
    {
      "cell_type": "code",
      "execution_count": null,
      "metadata": {
        "collapsed": true,
        "id": "0OkSbup91prJ"
      },
      "outputs": [],
      "source": []
    },
    {
      "cell_type": "markdown",
      "metadata": {
        "id": "UEe9yt6L1prM"
      },
      "source": [
        "### Part (b) [4 pt]\n",
        "\n",
        "Based on the test accuracy alone, it is difficult to assess whether our model\n",
        "is actually performing well. We don't know whether a high accuracy is due to\n",
        "the simplicity of the problem, or if a poor accuracy is a result of the inherent\n",
        "difficulty of the problem.\n",
        "\n",
        "It is therefore very important to be able to compare our model to at least one\n",
        "alternative. In particular, we consider a simple **baseline**\n",
        "model that is not very computationally expensive. Our neural network\n",
        "should at least outperform this baseline model. If our network is not much\n",
        "better than the baseline, then it is not doing well.\n",
        "\n",
        "For our data imputation problem, consider the following baseline model:\n",
        "to predict a missing feature, the baseline model will look at the **most common value** of the feature in the training set.\n",
        "\n",
        "For example, if the feature \"marriage\" is missing, then this model's prediction will be the most common value for \"marriage\" in the training set, which happens to be \"Married-civ-spouse\".\n",
        "\n",
        "What would be the test accuracy of this baseline model?\n"
      ]
    },
    {
      "cell_type": "code",
      "execution_count": null,
      "metadata": {
        "collapsed": true,
        "id": "p45VHp011prN"
      },
      "outputs": [],
      "source": []
    },
    {
      "cell_type": "markdown",
      "metadata": {
        "id": "QlHu0wxh1prP"
      },
      "source": [
        "### Part (c) [1 pt]\n",
        "\n",
        "How does your test accuracy from part (a) compared to your basline test accuracy in part (b)?"
      ]
    },
    {
      "cell_type": "code",
      "execution_count": null,
      "metadata": {
        "collapsed": true,
        "id": "1KQdwE_n1prQ"
      },
      "outputs": [],
      "source": []
    },
    {
      "cell_type": "markdown",
      "metadata": {
        "id": "DfQPgu1Q1prS"
      },
      "source": [
        "### Part (d) [1 pt]\n",
        "\n",
        "Look at the first item in your test data.\n",
        "Do you think it is reasonable for a human\n",
        "to be able to guess this person's education level\n",
        "based on their other features? Explain."
      ]
    },
    {
      "cell_type": "code",
      "execution_count": null,
      "metadata": {
        "collapsed": true,
        "id": "3qbQ1vvT1prT"
      },
      "outputs": [],
      "source": []
    },
    {
      "cell_type": "markdown",
      "metadata": {
        "id": "p_d5uuAY1prZ"
      },
      "source": [
        "### Part (e) [2 pt]\n",
        "\n",
        "What is your model's prediction of this person's education\n",
        "level, given their other features?\n"
      ]
    },
    {
      "cell_type": "code",
      "execution_count": null,
      "metadata": {
        "collapsed": true,
        "id": "kBY5gKXR1pra"
      },
      "outputs": [],
      "source": []
    },
    {
      "cell_type": "markdown",
      "metadata": {
        "id": "fdLNA0ce1prd"
      },
      "source": [
        "### Part (f) [2 pt]\n",
        "\n",
        "What is the baseline model's prediction\n",
        "of this person's education level?"
      ]
    },
    {
      "cell_type": "code",
      "execution_count": null,
      "metadata": {
        "collapsed": true,
        "id": "TXgoM9qk1prd"
      },
      "outputs": [],
      "source": []
    }
  ],
  "metadata": {
    "colab": {
      "collapsed_sections": [
        "HwjDg1uM1pqe",
        "OEJ0Ci3l1pqh",
        "1_5ZZR_J1pqy",
        "WKk01pwx1pq_",
        "SxCTlXoV1prB",
        "h9xTwIf51prF",
        "UEe9yt6L1prM",
        "QlHu0wxh1prP",
        "DfQPgu1Q1prS",
        "p_d5uuAY1prZ",
        "fdLNA0ce1prd"
      ],
      "provenance": []
    },
    "kernelspec": {
      "display_name": "Python 3 (ipykernel)",
      "language": "python",
      "name": "python3"
    },
    "language_info": {
      "codemirror_mode": {
        "name": "ipython",
        "version": 3
      },
      "file_extension": ".py",
      "mimetype": "text/x-python",
      "name": "python",
      "nbconvert_exporter": "python",
      "pygments_lexer": "ipython3",
      "version": "3.9.4"
    }
  },
  "nbformat": 4,
  "nbformat_minor": 0
}